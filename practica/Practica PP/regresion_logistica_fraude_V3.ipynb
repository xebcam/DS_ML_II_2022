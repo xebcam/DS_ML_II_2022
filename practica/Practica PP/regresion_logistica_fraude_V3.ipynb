{
  "nbformat": 4,
  "nbformat_minor": 0,
  "metadata": {
    "colab": {
      "provenance": []
    },
    "kernelspec": {
      "name": "python3",
      "display_name": "Python 3"
    },
    "language_info": {
      "name": "python"
    }
  },
  "cells": [
    {
      "cell_type": "code",
      "execution_count": null,
      "metadata": {
        "id": "Svh5ADmjlT-e"
      },
      "outputs": [],
      "source": [
        "import numpy as np\n",
        "import matplotlib.pyplot as plt\n",
        "import pandas as pd\n",
        "import re\n",
        "from sklearn.impute import KNNImputer\n",
        "from sklearn.experimental import enable_iterative_imputer\n",
        "from sklearn.impute import IterativeImputer\n",
        "import seaborn as sns\n",
        "\n",
        "from sklearn.model_selection import train_test_split\n",
        "from sklearn import metrics\n",
        "from sklearn.linear_model import LogisticRegression\n",
        "\n",
        "from sklearn.metrics import r2_score\n",
        "from sklearn import metrics\n",
        "\n",
        "from sklearn.metrics import classification_report"
      ]
    },
    {
      "cell_type": "code",
      "source": [
        "df = pd.read_csv('https://raw.githubusercontent.com/xebcam/DS_ML_II_2022/main/datasets/fraud_challenge.csv',encoding = \"ISO-8859-1\")\n",
        "df.head()"
      ],
      "metadata": {
        "id": "q7EoeWfVlZQ0",
        "colab": {
          "base_uri": "https://localhost:8080/",
          "height": 647
        },
        "outputId": "dec7803c-1239-4c9d-b2ca-9246336157bd"
      },
      "execution_count": null,
      "outputs": [
        {
          "output_type": "execute_result",
          "data": {
            "text/plain": [
              "   account_age_days  transaction_amt  transaction_adj_amt  historic_velocity  \\\n",
              "0            3371.0           2167.0                 56.0             2572.0   \n",
              "1            2714.0           2045.0                 48.0             4517.0   \n",
              "2            6987.0           2892.0                 61.0             5007.0   \n",
              "3            2712.0           3040.0                 28.0             6022.0   \n",
              "4            3598.0           2976.0                 66.0             2600.0   \n",
              "\n",
              "       ip_address                                         user_agent  \\\n",
              "0   154.68.49.124  Opera/9.81.(Windows NT 10.0; ht-HT) Presto/2.9...   \n",
              "1   39.131.125.85  Opera/9.76.(X11; Linux i686; mi-NZ) Presto/2.9...   \n",
              "2  166.245.194.83  Mozilla/5.0 (X11; Linux x86_64; rv:1.9.6.20) G...   \n",
              "3   100.1.217.216  Mozilla/5.0 (Macintosh; Intel Mac OS X 10 9_3 ...   \n",
              "4  113.156.65.245  Mozilla/5.0 (X11; Linux x86_64; rv:1.9.5.20) G...   \n",
              "\n",
              "         email_domain           phone_number    billing_city  billing_postal  \\\n",
              "0     perez-garza.com           878-111-5140      Woodsburgh         96336.0   \n",
              "1   mcneil-ortega.com          (002)736-0139      West Kevin         78083.0   \n",
              "2  davis-calderon.com      (983)585-2863x652     Lorichester         83236.0   \n",
              "3        rose-lee.org  +1-678-897-3420x60738    Stephenmouth         78364.0   \n",
              "4            nash.net    (013)204-1766x92641  New Brianmouth         77499.0   \n",
              "\n",
              "   ... transaction_env      EVENT_TIMESTAMP   applicant_name  \\\n",
              "0  ...               X  2020-12-29 09:05:51     Linda Wright   \n",
              "1  ...               W  2021-06-22 18:05:06     Terri Rivera   \n",
              "2  ...               X  2021-05-10 13:48:38       Sarah Gray   \n",
              "3  ...               N  2021-03-11 07:36:40  Valerie Jenkins   \n",
              "4  ...               G  2021-03-27 06:13:35      Amy Coleman   \n",
              "\n",
              "     billing_address  merchant_id  locale tranaction_initiate  \\\n",
              "0  4684 Sharon Ranch  066-82-8795  niu_NZ                   O   \n",
              "1  7642 Allison Ramp  669-99-9459  apn_IN                   J   \n",
              "2  4948 Lisa Passage  086-41-1624   dv_MV                   T   \n",
              "3   1616 Little Camp  669-97-4021  byn_ER                   M   \n",
              "4   149 Harris Rapid  088-21-6329  the_NP                   K   \n",
              "\n",
              "  days_since_last_logon inital_amount EVENT_LABEL  \n",
              "0                  59.0       13646.0       legit  \n",
              "1                   0.0       11930.0       legit  \n",
              "2                  83.0        7412.0       legit  \n",
              "3                  24.0        4623.0       legit  \n",
              "4                  21.0        1905.0       legit  \n",
              "\n",
              "[5 rows x 26 columns]"
            ],
            "text/html": [
              "\n",
              "  <div id=\"df-8f0e2313-3a9c-4642-9107-b15ebc6e9302\">\n",
              "    <div class=\"colab-df-container\">\n",
              "      <div>\n",
              "<style scoped>\n",
              "    .dataframe tbody tr th:only-of-type {\n",
              "        vertical-align: middle;\n",
              "    }\n",
              "\n",
              "    .dataframe tbody tr th {\n",
              "        vertical-align: top;\n",
              "    }\n",
              "\n",
              "    .dataframe thead th {\n",
              "        text-align: right;\n",
              "    }\n",
              "</style>\n",
              "<table border=\"1\" class=\"dataframe\">\n",
              "  <thead>\n",
              "    <tr style=\"text-align: right;\">\n",
              "      <th></th>\n",
              "      <th>account_age_days</th>\n",
              "      <th>transaction_amt</th>\n",
              "      <th>transaction_adj_amt</th>\n",
              "      <th>historic_velocity</th>\n",
              "      <th>ip_address</th>\n",
              "      <th>user_agent</th>\n",
              "      <th>email_domain</th>\n",
              "      <th>phone_number</th>\n",
              "      <th>billing_city</th>\n",
              "      <th>billing_postal</th>\n",
              "      <th>...</th>\n",
              "      <th>transaction_env</th>\n",
              "      <th>EVENT_TIMESTAMP</th>\n",
              "      <th>applicant_name</th>\n",
              "      <th>billing_address</th>\n",
              "      <th>merchant_id</th>\n",
              "      <th>locale</th>\n",
              "      <th>tranaction_initiate</th>\n",
              "      <th>days_since_last_logon</th>\n",
              "      <th>inital_amount</th>\n",
              "      <th>EVENT_LABEL</th>\n",
              "    </tr>\n",
              "  </thead>\n",
              "  <tbody>\n",
              "    <tr>\n",
              "      <th>0</th>\n",
              "      <td>3371.0</td>\n",
              "      <td>2167.0</td>\n",
              "      <td>56.0</td>\n",
              "      <td>2572.0</td>\n",
              "      <td>154.68.49.124</td>\n",
              "      <td>Opera/9.81.(Windows NT 10.0; ht-HT) Presto/2.9...</td>\n",
              "      <td>perez-garza.com</td>\n",
              "      <td>878-111-5140</td>\n",
              "      <td>Woodsburgh</td>\n",
              "      <td>96336.0</td>\n",
              "      <td>...</td>\n",
              "      <td>X</td>\n",
              "      <td>2020-12-29 09:05:51</td>\n",
              "      <td>Linda Wright</td>\n",
              "      <td>4684 Sharon Ranch</td>\n",
              "      <td>066-82-8795</td>\n",
              "      <td>niu_NZ</td>\n",
              "      <td>O</td>\n",
              "      <td>59.0</td>\n",
              "      <td>13646.0</td>\n",
              "      <td>legit</td>\n",
              "    </tr>\n",
              "    <tr>\n",
              "      <th>1</th>\n",
              "      <td>2714.0</td>\n",
              "      <td>2045.0</td>\n",
              "      <td>48.0</td>\n",
              "      <td>4517.0</td>\n",
              "      <td>39.131.125.85</td>\n",
              "      <td>Opera/9.76.(X11; Linux i686; mi-NZ) Presto/2.9...</td>\n",
              "      <td>mcneil-ortega.com</td>\n",
              "      <td>(002)736-0139</td>\n",
              "      <td>West Kevin</td>\n",
              "      <td>78083.0</td>\n",
              "      <td>...</td>\n",
              "      <td>W</td>\n",
              "      <td>2021-06-22 18:05:06</td>\n",
              "      <td>Terri Rivera</td>\n",
              "      <td>7642 Allison Ramp</td>\n",
              "      <td>669-99-9459</td>\n",
              "      <td>apn_IN</td>\n",
              "      <td>J</td>\n",
              "      <td>0.0</td>\n",
              "      <td>11930.0</td>\n",
              "      <td>legit</td>\n",
              "    </tr>\n",
              "    <tr>\n",
              "      <th>2</th>\n",
              "      <td>6987.0</td>\n",
              "      <td>2892.0</td>\n",
              "      <td>61.0</td>\n",
              "      <td>5007.0</td>\n",
              "      <td>166.245.194.83</td>\n",
              "      <td>Mozilla/5.0 (X11; Linux x86_64; rv:1.9.6.20) G...</td>\n",
              "      <td>davis-calderon.com</td>\n",
              "      <td>(983)585-2863x652</td>\n",
              "      <td>Lorichester</td>\n",
              "      <td>83236.0</td>\n",
              "      <td>...</td>\n",
              "      <td>X</td>\n",
              "      <td>2021-05-10 13:48:38</td>\n",
              "      <td>Sarah Gray</td>\n",
              "      <td>4948 Lisa Passage</td>\n",
              "      <td>086-41-1624</td>\n",
              "      <td>dv_MV</td>\n",
              "      <td>T</td>\n",
              "      <td>83.0</td>\n",
              "      <td>7412.0</td>\n",
              "      <td>legit</td>\n",
              "    </tr>\n",
              "    <tr>\n",
              "      <th>3</th>\n",
              "      <td>2712.0</td>\n",
              "      <td>3040.0</td>\n",
              "      <td>28.0</td>\n",
              "      <td>6022.0</td>\n",
              "      <td>100.1.217.216</td>\n",
              "      <td>Mozilla/5.0 (Macintosh; Intel Mac OS X 10 9_3 ...</td>\n",
              "      <td>rose-lee.org</td>\n",
              "      <td>+1-678-897-3420x60738</td>\n",
              "      <td>Stephenmouth</td>\n",
              "      <td>78364.0</td>\n",
              "      <td>...</td>\n",
              "      <td>N</td>\n",
              "      <td>2021-03-11 07:36:40</td>\n",
              "      <td>Valerie Jenkins</td>\n",
              "      <td>1616 Little Camp</td>\n",
              "      <td>669-97-4021</td>\n",
              "      <td>byn_ER</td>\n",
              "      <td>M</td>\n",
              "      <td>24.0</td>\n",
              "      <td>4623.0</td>\n",
              "      <td>legit</td>\n",
              "    </tr>\n",
              "    <tr>\n",
              "      <th>4</th>\n",
              "      <td>3598.0</td>\n",
              "      <td>2976.0</td>\n",
              "      <td>66.0</td>\n",
              "      <td>2600.0</td>\n",
              "      <td>113.156.65.245</td>\n",
              "      <td>Mozilla/5.0 (X11; Linux x86_64; rv:1.9.5.20) G...</td>\n",
              "      <td>nash.net</td>\n",
              "      <td>(013)204-1766x92641</td>\n",
              "      <td>New Brianmouth</td>\n",
              "      <td>77499.0</td>\n",
              "      <td>...</td>\n",
              "      <td>G</td>\n",
              "      <td>2021-03-27 06:13:35</td>\n",
              "      <td>Amy Coleman</td>\n",
              "      <td>149 Harris Rapid</td>\n",
              "      <td>088-21-6329</td>\n",
              "      <td>the_NP</td>\n",
              "      <td>K</td>\n",
              "      <td>21.0</td>\n",
              "      <td>1905.0</td>\n",
              "      <td>legit</td>\n",
              "    </tr>\n",
              "  </tbody>\n",
              "</table>\n",
              "<p>5 rows × 26 columns</p>\n",
              "</div>\n",
              "      <button class=\"colab-df-convert\" onclick=\"convertToInteractive('df-8f0e2313-3a9c-4642-9107-b15ebc6e9302')\"\n",
              "              title=\"Convert this dataframe to an interactive table.\"\n",
              "              style=\"display:none;\">\n",
              "        \n",
              "  <svg xmlns=\"http://www.w3.org/2000/svg\" height=\"24px\"viewBox=\"0 0 24 24\"\n",
              "       width=\"24px\">\n",
              "    <path d=\"M0 0h24v24H0V0z\" fill=\"none\"/>\n",
              "    <path d=\"M18.56 5.44l.94 2.06.94-2.06 2.06-.94-2.06-.94-.94-2.06-.94 2.06-2.06.94zm-11 1L8.5 8.5l.94-2.06 2.06-.94-2.06-.94L8.5 2.5l-.94 2.06-2.06.94zm10 10l.94 2.06.94-2.06 2.06-.94-2.06-.94-.94-2.06-.94 2.06-2.06.94z\"/><path d=\"M17.41 7.96l-1.37-1.37c-.4-.4-.92-.59-1.43-.59-.52 0-1.04.2-1.43.59L10.3 9.45l-7.72 7.72c-.78.78-.78 2.05 0 2.83L4 21.41c.39.39.9.59 1.41.59.51 0 1.02-.2 1.41-.59l7.78-7.78 2.81-2.81c.8-.78.8-2.07 0-2.86zM5.41 20L4 18.59l7.72-7.72 1.47 1.35L5.41 20z\"/>\n",
              "  </svg>\n",
              "      </button>\n",
              "      \n",
              "  <style>\n",
              "    .colab-df-container {\n",
              "      display:flex;\n",
              "      flex-wrap:wrap;\n",
              "      gap: 12px;\n",
              "    }\n",
              "\n",
              "    .colab-df-convert {\n",
              "      background-color: #E8F0FE;\n",
              "      border: none;\n",
              "      border-radius: 50%;\n",
              "      cursor: pointer;\n",
              "      display: none;\n",
              "      fill: #1967D2;\n",
              "      height: 32px;\n",
              "      padding: 0 0 0 0;\n",
              "      width: 32px;\n",
              "    }\n",
              "\n",
              "    .colab-df-convert:hover {\n",
              "      background-color: #E2EBFA;\n",
              "      box-shadow: 0px 1px 2px rgba(60, 64, 67, 0.3), 0px 1px 3px 1px rgba(60, 64, 67, 0.15);\n",
              "      fill: #174EA6;\n",
              "    }\n",
              "\n",
              "    [theme=dark] .colab-df-convert {\n",
              "      background-color: #3B4455;\n",
              "      fill: #D2E3FC;\n",
              "    }\n",
              "\n",
              "    [theme=dark] .colab-df-convert:hover {\n",
              "      background-color: #434B5C;\n",
              "      box-shadow: 0px 1px 3px 1px rgba(0, 0, 0, 0.15);\n",
              "      filter: drop-shadow(0px 1px 2px rgba(0, 0, 0, 0.3));\n",
              "      fill: #FFFFFF;\n",
              "    }\n",
              "  </style>\n",
              "\n",
              "      <script>\n",
              "        const buttonEl =\n",
              "          document.querySelector('#df-8f0e2313-3a9c-4642-9107-b15ebc6e9302 button.colab-df-convert');\n",
              "        buttonEl.style.display =\n",
              "          google.colab.kernel.accessAllowed ? 'block' : 'none';\n",
              "\n",
              "        async function convertToInteractive(key) {\n",
              "          const element = document.querySelector('#df-8f0e2313-3a9c-4642-9107-b15ebc6e9302');\n",
              "          const dataTable =\n",
              "            await google.colab.kernel.invokeFunction('convertToInteractive',\n",
              "                                                     [key], {});\n",
              "          if (!dataTable) return;\n",
              "\n",
              "          const docLinkHtml = 'Like what you see? Visit the ' +\n",
              "            '<a target=\"_blank\" href=https://colab.research.google.com/notebooks/data_table.ipynb>data table notebook</a>'\n",
              "            + ' to learn more about interactive tables.';\n",
              "          element.innerHTML = '';\n",
              "          dataTable['output_type'] = 'display_data';\n",
              "          await google.colab.output.renderOutput(dataTable, element);\n",
              "          const docLink = document.createElement('div');\n",
              "          docLink.innerHTML = docLinkHtml;\n",
              "          element.appendChild(docLink);\n",
              "        }\n",
              "      </script>\n",
              "    </div>\n",
              "  </div>\n",
              "  "
            ]
          },
          "metadata": {},
          "execution_count": 2
        }
      ]
    },
    {
      "cell_type": "code",
      "source": [
        "df.info()"
      ],
      "metadata": {
        "colab": {
          "base_uri": "https://localhost:8080/"
        },
        "id": "09ptcozkrfb_",
        "outputId": "ae8e7009-e2f7-4b47-fa8e-695e5bb80f14"
      },
      "execution_count": null,
      "outputs": [
        {
          "output_type": "stream",
          "name": "stdout",
          "text": [
            "<class 'pandas.core.frame.DataFrame'>\n",
            "RangeIndex: 150000 entries, 0 to 149999\n",
            "Data columns (total 26 columns):\n",
            " #   Column                 Non-Null Count   Dtype  \n",
            "---  ------                 --------------   -----  \n",
            " 0   account_age_days       149892 non-null  float64\n",
            " 1   transaction_amt        149870 non-null  float64\n",
            " 2   transaction_adj_amt    149886 non-null  float64\n",
            " 3   historic_velocity      149885 non-null  float64\n",
            " 4   ip_address             149873 non-null  object \n",
            " 5   user_agent             149887 non-null  object \n",
            " 6   email_domain           149910 non-null  object \n",
            " 7   phone_number           149873 non-null  object \n",
            " 8   billing_city           149884 non-null  object \n",
            " 9   billing_postal         149876 non-null  float64\n",
            " 10  billing_state          149887 non-null  object \n",
            " 11  card_bin               149872 non-null  float64\n",
            " 12  currency               149892 non-null  object \n",
            " 13  cvv                    149877 non-null  object \n",
            " 14  signature_image        149895 non-null  object \n",
            " 15  transaction_type       149884 non-null  object \n",
            " 16  transaction_env        149877 non-null  object \n",
            " 17  EVENT_TIMESTAMP        149888 non-null  object \n",
            " 18  applicant_name         149857 non-null  object \n",
            " 19  billing_address        149866 non-null  object \n",
            " 20  merchant_id            149893 non-null  object \n",
            " 21  locale                 149866 non-null  object \n",
            " 22  tranaction_initiate    149874 non-null  object \n",
            " 23  days_since_last_logon  149864 non-null  float64\n",
            " 24  inital_amount          149872 non-null  float64\n",
            " 25  EVENT_LABEL            150000 non-null  object \n",
            "dtypes: float64(8), object(18)\n",
            "memory usage: 29.8+ MB\n"
          ]
        }
      ]
    },
    {
      "cell_type": "code",
      "source": [
        "# DATOS FALTANTES EN TOTALES\n",
        "df.isnull().sum().sum()"
      ],
      "metadata": {
        "colab": {
          "base_uri": "https://localhost:8080/"
        },
        "id": "1VH4cvjN28MT",
        "outputId": "6af2ff50-7168-4e7a-bb3e-d0641d834333"
      },
      "execution_count": null,
      "outputs": [
        {
          "output_type": "execute_result",
          "data": {
            "text/plain": [
              "3000"
            ]
          },
          "metadata": {},
          "execution_count": 4
        }
      ]
    },
    {
      "cell_type": "code",
      "source": [
        "# DATOS FALTANTES EN COLUMNAS\n",
        "df.isnull().sum()"
      ],
      "metadata": {
        "colab": {
          "base_uri": "https://localhost:8080/"
        },
        "id": "AMG_hHmc3cbB",
        "outputId": "de103382-d98f-4806-fb84-08daf019c43e"
      },
      "execution_count": null,
      "outputs": [
        {
          "output_type": "execute_result",
          "data": {
            "text/plain": [
              "account_age_days         108\n",
              "transaction_amt          130\n",
              "transaction_adj_amt      114\n",
              "historic_velocity        115\n",
              "ip_address               127\n",
              "user_agent               113\n",
              "email_domain              90\n",
              "phone_number             127\n",
              "billing_city             116\n",
              "billing_postal           124\n",
              "billing_state            113\n",
              "card_bin                 128\n",
              "currency                 108\n",
              "cvv                      123\n",
              "signature_image          105\n",
              "transaction_type         116\n",
              "transaction_env          123\n",
              "EVENT_TIMESTAMP          112\n",
              "applicant_name           143\n",
              "billing_address          134\n",
              "merchant_id              107\n",
              "locale                   134\n",
              "tranaction_initiate      126\n",
              "days_since_last_logon    136\n",
              "inital_amount            128\n",
              "EVENT_LABEL                0\n",
              "dtype: int64"
            ]
          },
          "metadata": {},
          "execution_count": 5
        }
      ]
    },
    {
      "cell_type": "code",
      "source": [
        "# VERIFICAR QUE COLUMNAS CONTIENEN DATOS CONTINUOS\n",
        "con_cols = [col for col in df.columns if df[col].dtype != 'O']\n",
        "con_cols"
      ],
      "metadata": {
        "colab": {
          "base_uri": "https://localhost:8080/"
        },
        "id": "g7z3urmo_NB0",
        "outputId": "3dff4ac0-403c-4293-b6bb-f5f503ee2cb6"
      },
      "execution_count": null,
      "outputs": [
        {
          "output_type": "execute_result",
          "data": {
            "text/plain": [
              "['account_age_days',\n",
              " 'transaction_amt',\n",
              " 'transaction_adj_amt',\n",
              " 'historic_velocity',\n",
              " 'billing_postal',\n",
              " 'card_bin',\n",
              " 'days_since_last_logon',\n",
              " 'inital_amount']"
            ]
          },
          "metadata": {},
          "execution_count": 6
        }
      ]
    },
    {
      "cell_type": "code",
      "source": [
        "# VERIFICAR QUE COLUMNAS TIENEN DATOS CATEGORICOS\n",
        "col_categorical = [var for var in df.columns if df[var].dtype=='O']\n",
        "for i in col_categorical:\n",
        "    print(f\"{i}: {len(df[i].unique())} labels\")"
      ],
      "metadata": {
        "colab": {
          "base_uri": "https://localhost:8080/"
        },
        "id": "v1jReD5J_WFk",
        "outputId": "48cfedc7-a766-4935-a3d4-d6811e5bc96b"
      },
      "execution_count": null,
      "outputs": [
        {
          "output_type": "stream",
          "name": "stdout",
          "text": [
            "ip_address: 13669 labels\n",
            "user_agent: 8830 labels\n",
            "email_domain: 7144 labels\n",
            "phone_number: 12217 labels\n",
            "billing_city: 9188 labels\n",
            "billing_state: 51 labels\n",
            "currency: 4 labels\n",
            "cvv: 27 labels\n",
            "signature_image: 27 labels\n",
            "transaction_type: 27 labels\n",
            "transaction_env: 27 labels\n",
            "EVENT_TIMESTAMP: 149554 labels\n",
            "applicant_name: 97404 labels\n",
            "billing_address: 149861 labels\n",
            "merchant_id: 149884 labels\n",
            "locale: 294 labels\n",
            "tranaction_initiate: 27 labels\n",
            "EVENT_LABEL: 2 labels\n"
          ]
        }
      ]
    },
    {
      "cell_type": "markdown",
      "source": [
        "# Pre-Procesamiento de datos"
      ],
      "metadata": {
        "id": "3XJGBJjl_zJB"
      }
    },
    {
      "cell_type": "markdown",
      "source": [
        "## DATO FORMATO A LA COLUMNAS"
      ],
      "metadata": {
        "id": "BqVKluwi_51D"
      }
    },
    {
      "cell_type": "code",
      "source": [
        "def format_column_names(df):\n",
        "    df.columns = df.columns.str.lower().str.replace(\" \",\"_\", regex=True)\n",
        "    df.columns = df.columns.str.replace(\".\",\"_\", regex=True)\n",
        "    df.columns = df.columns.str.replace(\"-\",\"_\", regex=True)\n",
        "    df.columns = df.columns.str.replace(\":\",\"_\", regex=True)"
      ],
      "metadata": {
        "id": "gkM4o8FZlSYe"
      },
      "execution_count": null,
      "outputs": []
    },
    {
      "cell_type": "code",
      "source": [
        "\n",
        "format_column_names(df)\n",
        "df.info()"
      ],
      "metadata": {
        "colab": {
          "base_uri": "https://localhost:8080/"
        },
        "id": "S09rfKsx_5ML",
        "outputId": "43dc90a5-8196-4632-80ad-cacd90bcdb58"
      },
      "execution_count": null,
      "outputs": [
        {
          "output_type": "stream",
          "name": "stdout",
          "text": [
            "<class 'pandas.core.frame.DataFrame'>\n",
            "RangeIndex: 150000 entries, 0 to 149999\n",
            "Data columns (total 26 columns):\n",
            " #   Column                 Non-Null Count   Dtype  \n",
            "---  ------                 --------------   -----  \n",
            " 0   account_age_days       149892 non-null  float64\n",
            " 1   transaction_amt        149870 non-null  float64\n",
            " 2   transaction_adj_amt    149886 non-null  float64\n",
            " 3   historic_velocity      149885 non-null  float64\n",
            " 4   ip_address             149873 non-null  object \n",
            " 5   user_agent             149887 non-null  object \n",
            " 6   email_domain           149910 non-null  object \n",
            " 7   phone_number           149873 non-null  object \n",
            " 8   billing_city           149884 non-null  object \n",
            " 9   billing_postal         149876 non-null  float64\n",
            " 10  billing_state          149887 non-null  object \n",
            " 11  card_bin               149872 non-null  float64\n",
            " 12  currency               149892 non-null  object \n",
            " 13  cvv                    149877 non-null  object \n",
            " 14  signature_image        149895 non-null  object \n",
            " 15  transaction_type       149884 non-null  object \n",
            " 16  transaction_env        149877 non-null  object \n",
            " 17  event_timestamp        149888 non-null  object \n",
            " 18  applicant_name         149857 non-null  object \n",
            " 19  billing_address        149866 non-null  object \n",
            " 20  merchant_id            149893 non-null  object \n",
            " 21  locale                 149866 non-null  object \n",
            " 22  tranaction_initiate    149874 non-null  object \n",
            " 23  days_since_last_logon  149864 non-null  float64\n",
            " 24  inital_amount          149872 non-null  float64\n",
            " 25  event_label            150000 non-null  object \n",
            "dtypes: float64(8), object(18)\n",
            "memory usage: 29.8+ MB\n"
          ]
        }
      ]
    },
    {
      "cell_type": "code",
      "source": [
        "# VERIFICAR QUE COLUMNAS TIENEN DATOS CATEGORICOS\n",
        "col_categorical = [var for var in df.columns if df[var].dtype=='O']\n",
        "for i in col_categorical:\n",
        "    print(f\"{i}: {len(df[i].unique())} labels\")"
      ],
      "metadata": {
        "colab": {
          "base_uri": "https://localhost:8080/"
        },
        "id": "KoTGiwcWL5In",
        "outputId": "316e6d4d-f9c1-43ac-9388-676a45ba81a2"
      },
      "execution_count": null,
      "outputs": [
        {
          "output_type": "stream",
          "name": "stdout",
          "text": [
            "ip_address: 13669 labels\n",
            "user_agent: 8830 labels\n",
            "email_domain: 7144 labels\n",
            "phone_number: 12217 labels\n",
            "billing_city: 9188 labels\n",
            "billing_state: 51 labels\n",
            "currency: 4 labels\n",
            "cvv: 27 labels\n",
            "signature_image: 27 labels\n",
            "transaction_type: 27 labels\n",
            "transaction_env: 27 labels\n",
            "event_timestamp: 149554 labels\n",
            "applicant_name: 97404 labels\n",
            "billing_address: 149861 labels\n",
            "merchant_id: 149884 labels\n",
            "locale: 294 labels\n",
            "tranaction_initiate: 27 labels\n",
            "event_label: 2 labels\n"
          ]
        }
      ]
    },
    {
      "cell_type": "code",
      "source": [
        "df.isnull().sum()"
      ],
      "metadata": {
        "colab": {
          "base_uri": "https://localhost:8080/"
        },
        "id": "hKqQgESuAjvj",
        "outputId": "63cc0fc6-5e1f-4b4d-da8c-ba411c4bc315"
      },
      "execution_count": null,
      "outputs": [
        {
          "output_type": "execute_result",
          "data": {
            "text/plain": [
              "account_age_days         108\n",
              "transaction_amt          130\n",
              "transaction_adj_amt      114\n",
              "historic_velocity        115\n",
              "ip_address               127\n",
              "user_agent               113\n",
              "email_domain              90\n",
              "phone_number             127\n",
              "billing_city             116\n",
              "billing_postal           124\n",
              "billing_state            113\n",
              "card_bin                 128\n",
              "currency                 108\n",
              "cvv                      123\n",
              "signature_image          105\n",
              "transaction_type         116\n",
              "transaction_env          123\n",
              "event_timestamp          112\n",
              "applicant_name           143\n",
              "billing_address          134\n",
              "merchant_id              107\n",
              "locale                   134\n",
              "tranaction_initiate      126\n",
              "days_since_last_logon    136\n",
              "inital_amount            128\n",
              "event_label                0\n",
              "dtype: int64"
            ]
          },
          "metadata": {},
          "execution_count": 11
        }
      ]
    },
    {
      "cell_type": "code",
      "source": [
        "df['event_label'].unique()"
      ],
      "metadata": {
        "colab": {
          "base_uri": "https://localhost:8080/"
        },
        "id": "tlGh8vUHimQ_",
        "outputId": "036298f3-869e-48f7-8a21-06088ddc2f57"
      },
      "execution_count": null,
      "outputs": [
        {
          "output_type": "execute_result",
          "data": {
            "text/plain": [
              "array(['legit', 'fraud'], dtype=object)"
            ]
          },
          "metadata": {},
          "execution_count": 12
        }
      ]
    },
    {
      "cell_type": "markdown",
      "source": [
        "##IDENTIFICAMOS NUESTRAS CLASES '0' Y '1'\n",
        "- 1 = 'fraud' -> Existe fraude\n",
        "- 0 = 'legit' -> NO existe fraude"
      ],
      "metadata": {
        "id": "f78-m8J_jFo-"
      }
    },
    {
      "cell_type": "code",
      "source": [
        "#CONVERTIMOS NUESTROS DATOS CATEGORICOS A DATOS CONTINUOS\n",
        "def col_cat_con(col_categorical ,df):\n",
        "    for i in col_categorical :\n",
        "        df[i] = df[i].astype('category').cat.codes"
      ],
      "metadata": {
        "id": "WN4gssdxjqPy"
      },
      "execution_count": null,
      "outputs": []
    },
    {
      "cell_type": "code",
      "source": [
        "col_cat_con(col_categorical ,df)\n",
        "df.info()"
      ],
      "metadata": {
        "colab": {
          "base_uri": "https://localhost:8080/"
        },
        "id": "Cyn4itYGjwkl",
        "outputId": "8f5322ef-d6b9-4cce-a125-c3cfc8e123e1"
      },
      "execution_count": null,
      "outputs": [
        {
          "output_type": "stream",
          "name": "stdout",
          "text": [
            "<class 'pandas.core.frame.DataFrame'>\n",
            "RangeIndex: 150000 entries, 0 to 149999\n",
            "Data columns (total 26 columns):\n",
            " #   Column                 Non-Null Count   Dtype  \n",
            "---  ------                 --------------   -----  \n",
            " 0   account_age_days       149892 non-null  float64\n",
            " 1   transaction_amt        149870 non-null  float64\n",
            " 2   transaction_adj_amt    149886 non-null  float64\n",
            " 3   historic_velocity      149885 non-null  float64\n",
            " 4   ip_address             150000 non-null  int16  \n",
            " 5   user_agent             150000 non-null  int16  \n",
            " 6   email_domain           150000 non-null  int16  \n",
            " 7   phone_number           150000 non-null  int16  \n",
            " 8   billing_city           150000 non-null  int16  \n",
            " 9   billing_postal         149876 non-null  float64\n",
            " 10  billing_state          150000 non-null  int8   \n",
            " 11  card_bin               149872 non-null  float64\n",
            " 12  currency               150000 non-null  int8   \n",
            " 13  cvv                    150000 non-null  int8   \n",
            " 14  signature_image        150000 non-null  int8   \n",
            " 15  transaction_type       150000 non-null  int8   \n",
            " 16  transaction_env        150000 non-null  int8   \n",
            " 17  event_timestamp        150000 non-null  int32  \n",
            " 18  applicant_name         150000 non-null  int32  \n",
            " 19  billing_address        150000 non-null  int32  \n",
            " 20  merchant_id            150000 non-null  int32  \n",
            " 21  locale                 150000 non-null  int16  \n",
            " 22  tranaction_initiate    150000 non-null  int8   \n",
            " 23  days_since_last_logon  149864 non-null  float64\n",
            " 24  inital_amount          149872 non-null  float64\n",
            " 25  event_label            150000 non-null  int8   \n",
            "dtypes: float64(8), int16(6), int32(4), int8(8)\n",
            "memory usage: 14.3 MB\n"
          ]
        }
      ]
    },
    {
      "cell_type": "code",
      "source": [
        "df['event_label'] = df['event_label'].replace({1: 0, 0: 1})  #REMPLAZAMOS LA MALA CODIFICACION DE DATOA DE 'legit'=1 y 'fraud'=0 por 'fraud'=1 y 'legit'=0\n",
        "df.head()"
      ],
      "metadata": {
        "colab": {
          "base_uri": "https://localhost:8080/",
          "height": 300
        },
        "id": "91KbJYVek6I1",
        "outputId": "52d17f3a-923b-47c4-a556-de32b56be448"
      },
      "execution_count": null,
      "outputs": [
        {
          "output_type": "execute_result",
          "data": {
            "text/plain": [
              "   account_age_days  transaction_amt  transaction_adj_amt  historic_velocity  \\\n",
              "0            3371.0           2167.0                 56.0             2572.0   \n",
              "1            2714.0           2045.0                 48.0             4517.0   \n",
              "2            6987.0           2892.0                 61.0             5007.0   \n",
              "3            2712.0           3040.0                 28.0             6022.0   \n",
              "4            3598.0           2976.0                 66.0             2600.0   \n",
              "\n",
              "   ip_address  user_agent  email_domain  phone_number  billing_city  \\\n",
              "0        3785        8596          4950         11500          9136   \n",
              "1        9536        8537          4138             3          8732   \n",
              "2        4570        4741          1449          2394          3871   \n",
              "3         113        1221          5585          3774          7920   \n",
              "4         991        4669          4569            39          4473   \n",
              "\n",
              "   billing_postal  ...  transaction_env  event_timestamp  applicant_name  \\\n",
              "0         96336.0  ...               23            26621           58524   \n",
              "1         78083.0  ...               22            98395           90070   \n",
              "2         83236.0  ...               23            80755           82433   \n",
              "3         78364.0  ...               13            55984           94133   \n",
              "4         77499.0  ...                6            62453            4141   \n",
              "\n",
              "   billing_address  merchant_id  locale  tranaction_initiate  \\\n",
              "0            70493        11086     202                   14   \n",
              "1           114672       111651       7                    9   \n",
              "2            74525        14332      76                   19   \n",
              "3            24247       111646      55                   12   \n",
              "4            22357        14611     261                   10   \n",
              "\n",
              "   days_since_last_logon  inital_amount  event_label  \n",
              "0                   59.0        13646.0            0  \n",
              "1                    0.0        11930.0            0  \n",
              "2                   83.0         7412.0            0  \n",
              "3                   24.0         4623.0            0  \n",
              "4                   21.0         1905.0            0  \n",
              "\n",
              "[5 rows x 26 columns]"
            ],
            "text/html": [
              "\n",
              "  <div id=\"df-41457757-8808-44f0-bd88-b0f695f64dce\">\n",
              "    <div class=\"colab-df-container\">\n",
              "      <div>\n",
              "<style scoped>\n",
              "    .dataframe tbody tr th:only-of-type {\n",
              "        vertical-align: middle;\n",
              "    }\n",
              "\n",
              "    .dataframe tbody tr th {\n",
              "        vertical-align: top;\n",
              "    }\n",
              "\n",
              "    .dataframe thead th {\n",
              "        text-align: right;\n",
              "    }\n",
              "</style>\n",
              "<table border=\"1\" class=\"dataframe\">\n",
              "  <thead>\n",
              "    <tr style=\"text-align: right;\">\n",
              "      <th></th>\n",
              "      <th>account_age_days</th>\n",
              "      <th>transaction_amt</th>\n",
              "      <th>transaction_adj_amt</th>\n",
              "      <th>historic_velocity</th>\n",
              "      <th>ip_address</th>\n",
              "      <th>user_agent</th>\n",
              "      <th>email_domain</th>\n",
              "      <th>phone_number</th>\n",
              "      <th>billing_city</th>\n",
              "      <th>billing_postal</th>\n",
              "      <th>...</th>\n",
              "      <th>transaction_env</th>\n",
              "      <th>event_timestamp</th>\n",
              "      <th>applicant_name</th>\n",
              "      <th>billing_address</th>\n",
              "      <th>merchant_id</th>\n",
              "      <th>locale</th>\n",
              "      <th>tranaction_initiate</th>\n",
              "      <th>days_since_last_logon</th>\n",
              "      <th>inital_amount</th>\n",
              "      <th>event_label</th>\n",
              "    </tr>\n",
              "  </thead>\n",
              "  <tbody>\n",
              "    <tr>\n",
              "      <th>0</th>\n",
              "      <td>3371.0</td>\n",
              "      <td>2167.0</td>\n",
              "      <td>56.0</td>\n",
              "      <td>2572.0</td>\n",
              "      <td>3785</td>\n",
              "      <td>8596</td>\n",
              "      <td>4950</td>\n",
              "      <td>11500</td>\n",
              "      <td>9136</td>\n",
              "      <td>96336.0</td>\n",
              "      <td>...</td>\n",
              "      <td>23</td>\n",
              "      <td>26621</td>\n",
              "      <td>58524</td>\n",
              "      <td>70493</td>\n",
              "      <td>11086</td>\n",
              "      <td>202</td>\n",
              "      <td>14</td>\n",
              "      <td>59.0</td>\n",
              "      <td>13646.0</td>\n",
              "      <td>0</td>\n",
              "    </tr>\n",
              "    <tr>\n",
              "      <th>1</th>\n",
              "      <td>2714.0</td>\n",
              "      <td>2045.0</td>\n",
              "      <td>48.0</td>\n",
              "      <td>4517.0</td>\n",
              "      <td>9536</td>\n",
              "      <td>8537</td>\n",
              "      <td>4138</td>\n",
              "      <td>3</td>\n",
              "      <td>8732</td>\n",
              "      <td>78083.0</td>\n",
              "      <td>...</td>\n",
              "      <td>22</td>\n",
              "      <td>98395</td>\n",
              "      <td>90070</td>\n",
              "      <td>114672</td>\n",
              "      <td>111651</td>\n",
              "      <td>7</td>\n",
              "      <td>9</td>\n",
              "      <td>0.0</td>\n",
              "      <td>11930.0</td>\n",
              "      <td>0</td>\n",
              "    </tr>\n",
              "    <tr>\n",
              "      <th>2</th>\n",
              "      <td>6987.0</td>\n",
              "      <td>2892.0</td>\n",
              "      <td>61.0</td>\n",
              "      <td>5007.0</td>\n",
              "      <td>4570</td>\n",
              "      <td>4741</td>\n",
              "      <td>1449</td>\n",
              "      <td>2394</td>\n",
              "      <td>3871</td>\n",
              "      <td>83236.0</td>\n",
              "      <td>...</td>\n",
              "      <td>23</td>\n",
              "      <td>80755</td>\n",
              "      <td>82433</td>\n",
              "      <td>74525</td>\n",
              "      <td>14332</td>\n",
              "      <td>76</td>\n",
              "      <td>19</td>\n",
              "      <td>83.0</td>\n",
              "      <td>7412.0</td>\n",
              "      <td>0</td>\n",
              "    </tr>\n",
              "    <tr>\n",
              "      <th>3</th>\n",
              "      <td>2712.0</td>\n",
              "      <td>3040.0</td>\n",
              "      <td>28.0</td>\n",
              "      <td>6022.0</td>\n",
              "      <td>113</td>\n",
              "      <td>1221</td>\n",
              "      <td>5585</td>\n",
              "      <td>3774</td>\n",
              "      <td>7920</td>\n",
              "      <td>78364.0</td>\n",
              "      <td>...</td>\n",
              "      <td>13</td>\n",
              "      <td>55984</td>\n",
              "      <td>94133</td>\n",
              "      <td>24247</td>\n",
              "      <td>111646</td>\n",
              "      <td>55</td>\n",
              "      <td>12</td>\n",
              "      <td>24.0</td>\n",
              "      <td>4623.0</td>\n",
              "      <td>0</td>\n",
              "    </tr>\n",
              "    <tr>\n",
              "      <th>4</th>\n",
              "      <td>3598.0</td>\n",
              "      <td>2976.0</td>\n",
              "      <td>66.0</td>\n",
              "      <td>2600.0</td>\n",
              "      <td>991</td>\n",
              "      <td>4669</td>\n",
              "      <td>4569</td>\n",
              "      <td>39</td>\n",
              "      <td>4473</td>\n",
              "      <td>77499.0</td>\n",
              "      <td>...</td>\n",
              "      <td>6</td>\n",
              "      <td>62453</td>\n",
              "      <td>4141</td>\n",
              "      <td>22357</td>\n",
              "      <td>14611</td>\n",
              "      <td>261</td>\n",
              "      <td>10</td>\n",
              "      <td>21.0</td>\n",
              "      <td>1905.0</td>\n",
              "      <td>0</td>\n",
              "    </tr>\n",
              "  </tbody>\n",
              "</table>\n",
              "<p>5 rows × 26 columns</p>\n",
              "</div>\n",
              "      <button class=\"colab-df-convert\" onclick=\"convertToInteractive('df-41457757-8808-44f0-bd88-b0f695f64dce')\"\n",
              "              title=\"Convert this dataframe to an interactive table.\"\n",
              "              style=\"display:none;\">\n",
              "        \n",
              "  <svg xmlns=\"http://www.w3.org/2000/svg\" height=\"24px\"viewBox=\"0 0 24 24\"\n",
              "       width=\"24px\">\n",
              "    <path d=\"M0 0h24v24H0V0z\" fill=\"none\"/>\n",
              "    <path d=\"M18.56 5.44l.94 2.06.94-2.06 2.06-.94-2.06-.94-.94-2.06-.94 2.06-2.06.94zm-11 1L8.5 8.5l.94-2.06 2.06-.94-2.06-.94L8.5 2.5l-.94 2.06-2.06.94zm10 10l.94 2.06.94-2.06 2.06-.94-2.06-.94-.94-2.06-.94 2.06-2.06.94z\"/><path d=\"M17.41 7.96l-1.37-1.37c-.4-.4-.92-.59-1.43-.59-.52 0-1.04.2-1.43.59L10.3 9.45l-7.72 7.72c-.78.78-.78 2.05 0 2.83L4 21.41c.39.39.9.59 1.41.59.51 0 1.02-.2 1.41-.59l7.78-7.78 2.81-2.81c.8-.78.8-2.07 0-2.86zM5.41 20L4 18.59l7.72-7.72 1.47 1.35L5.41 20z\"/>\n",
              "  </svg>\n",
              "      </button>\n",
              "      \n",
              "  <style>\n",
              "    .colab-df-container {\n",
              "      display:flex;\n",
              "      flex-wrap:wrap;\n",
              "      gap: 12px;\n",
              "    }\n",
              "\n",
              "    .colab-df-convert {\n",
              "      background-color: #E8F0FE;\n",
              "      border: none;\n",
              "      border-radius: 50%;\n",
              "      cursor: pointer;\n",
              "      display: none;\n",
              "      fill: #1967D2;\n",
              "      height: 32px;\n",
              "      padding: 0 0 0 0;\n",
              "      width: 32px;\n",
              "    }\n",
              "\n",
              "    .colab-df-convert:hover {\n",
              "      background-color: #E2EBFA;\n",
              "      box-shadow: 0px 1px 2px rgba(60, 64, 67, 0.3), 0px 1px 3px 1px rgba(60, 64, 67, 0.15);\n",
              "      fill: #174EA6;\n",
              "    }\n",
              "\n",
              "    [theme=dark] .colab-df-convert {\n",
              "      background-color: #3B4455;\n",
              "      fill: #D2E3FC;\n",
              "    }\n",
              "\n",
              "    [theme=dark] .colab-df-convert:hover {\n",
              "      background-color: #434B5C;\n",
              "      box-shadow: 0px 1px 3px 1px rgba(0, 0, 0, 0.15);\n",
              "      filter: drop-shadow(0px 1px 2px rgba(0, 0, 0, 0.3));\n",
              "      fill: #FFFFFF;\n",
              "    }\n",
              "  </style>\n",
              "\n",
              "      <script>\n",
              "        const buttonEl =\n",
              "          document.querySelector('#df-41457757-8808-44f0-bd88-b0f695f64dce button.colab-df-convert');\n",
              "        buttonEl.style.display =\n",
              "          google.colab.kernel.accessAllowed ? 'block' : 'none';\n",
              "\n",
              "        async function convertToInteractive(key) {\n",
              "          const element = document.querySelector('#df-41457757-8808-44f0-bd88-b0f695f64dce');\n",
              "          const dataTable =\n",
              "            await google.colab.kernel.invokeFunction('convertToInteractive',\n",
              "                                                     [key], {});\n",
              "          if (!dataTable) return;\n",
              "\n",
              "          const docLinkHtml = 'Like what you see? Visit the ' +\n",
              "            '<a target=\"_blank\" href=https://colab.research.google.com/notebooks/data_table.ipynb>data table notebook</a>'\n",
              "            + ' to learn more about interactive tables.';\n",
              "          element.innerHTML = '';\n",
              "          dataTable['output_type'] = 'display_data';\n",
              "          await google.colab.output.renderOutput(dataTable, element);\n",
              "          const docLink = document.createElement('div');\n",
              "          docLink.innerHTML = docLinkHtml;\n",
              "          element.appendChild(docLink);\n",
              "        }\n",
              "      </script>\n",
              "    </div>\n",
              "  </div>\n",
              "  "
            ]
          },
          "metadata": {},
          "execution_count": 15
        }
      ]
    },
    {
      "cell_type": "code",
      "source": [
        "def crear_histogra(variable,j):\n",
        "  plt.figure(j)\n",
        "  plt.hist(df[variable],10,color = \"blue\" , ec=\"black\")\n",
        "  plt.title(\"histograma\"+variable)\n",
        "\n",
        "variable=list(df.columns.values)\n",
        "\n",
        "j = 0\n",
        "k = 0\n",
        "\n",
        "for i in variable:\n",
        "  crear_histogra(i,j)\n",
        "  j+=1\n",
        "  k+=1\n",
        "\n"
      ],
      "metadata": {
        "colab": {
          "base_uri": "https://localhost:8080/",
          "height": 1000
        },
        "id": "H4a1yMxLTjs-",
        "outputId": "2ae83738-e6fa-491a-afad-ac2de56c498f"
      },
      "execution_count": null,
      "outputs": [
        {
          "output_type": "stream",
          "name": "stderr",
          "text": [
            "/usr/local/lib/python3.7/dist-packages/ipykernel_launcher.py:2: RuntimeWarning: More than 20 figures have been opened. Figures created through the pyplot interface (`matplotlib.pyplot.figure`) are retained until explicitly closed and may consume too much memory. (To control this warning, see the rcParam `figure.max_open_warning`).\n",
            "  \n"
          ]
        },
        {
          "output_type": "display_data",
          "data": {
            "text/plain": [
              "<Figure size 432x288 with 1 Axes>"
            ],
            "image/png": "[encoded data removed]"
          },
          "metadata": {
            "needs_background": "light"
          }
        },
        {
          "output_type": "display_data",
          "data": {
            "text/plain": [
              "<Figure size 432x288 with 1 Axes>"
            ],
            "image/png": "[encoded data removed]"
          },
          "metadata": {
            "needs_background": "light"
          }
        },
        {
          "output_type": "display_data",
          "data": {
            "text/plain": [
              "<Figure size 432x288 with 1 Axes>"
            ],
            "image/png": "[encoded data removed]"
          },
          "metadata": {
            "needs_background": "light"
          }
        },
        {
          "output_type": "display_data",
          "data": {
            "text/plain": [
              "<Figure size 432x288 with 1 Axes>"
            ],
            "image/png": "[encoded data removed]"
          },
          "metadata": {
            "needs_background": "light"
          }
        },
        {
          "output_type": "display_data",
          "data": {
            "text/plain": [
              "<Figure size 432x288 with 1 Axes>"
            ],
            "image/png": "[encoded data removed]"
          },
          "metadata": {
            "needs_background": "light"
          }
        },
        {
          "output_type": "display_data",
          "data": {
            "text/plain": [
              "<Figure size 432x288 with 1 Axes>"
            ],
            "image/png": "[encoded data removed]"
          },
          "metadata": {
            "needs_background": "light"
          }
        },
        {
          "output_type": "display_data",
          "data": {
            "text/plain": [
              "<Figure size 432x288 with 1 Axes>"
            ],
            "image/png": "[encoded data removed]"
          },
          "metadata": {
            "needs_background": "light"
          }
        },
        {
          "output_type": "display_data",
          "data": {
            "text/plain": [
              "<Figure size 432x288 with 1 Axes>"
            ],
            "image/png": "[encoded data removed]"
          },
          "metadata": {
            "needs_background": "light"
          }
        },
        {
          "output_type": "display_data",
          "data": {
            "text/plain": [
              "<Figure size 432x288 with 1 Axes>"
            ],
            "image/png": "[encoded data removed]"
          },
          "metadata": {
            "needs_background": "light"
          }
        },
        {
          "output_type": "display_data",
          "data": {
            "text/plain": [
              "<Figure size 432x288 with 1 Axes>"
            ],
            "image/png": "[encoded data removed]"
          },
          "metadata": {
            "needs_background": "light"
          }
        },
        {
          "output_type": "display_data",
          "data": {
            "text/plain": [
              "<Figure size 432x288 with 1 Axes>"
            ],
            "image/png": "[encoded data removed]"
          },
          "metadata": {
            "needs_background": "light"
          }
        },
        {
          "output_type": "display_data",
          "data": {
            "text/plain": [
              "<Figure size 432x288 with 1 Axes>"
            ],
            "image/png": "[encoded data removed]"
          },
          "metadata": {
            "needs_background": "light"
          }
        },
        {
          "output_type": "display_data",
          "data": {
            "text/plain": [
              "<Figure size 432x288 with 1 Axes>"
            ],
            "image/png": "[encoded data removed]"
          },
          "metadata": {
            "needs_background": "light"
          }
        },
        {
          "output_type": "display_data",
          "data": {
            "text/plain": [
              "<Figure size 432x288 with 1 Axes>"
            ],
            "image/png": "[encoded data removed]"
          },
          "metadata": {
            "needs_background": "light"
          }
        },
        {
          "output_type": "display_data",
          "data": {
            "text/plain": [
              "<Figure size 432x288 with 1 Axes>"
            ],
            "image/png": "[encoded data removed]"
          },
          "metadata": {
            "needs_background": "light"
          }
        },
        {
          "output_type": "display_data",
          "data": {
            "text/plain": [
              "<Figure size 432x288 with 1 Axes>"
            ],
            "image/png": "[encoded data removed]"
          },
          "metadata": {
            "needs_background": "light"
          }
        },
        {
          "output_type": "display_data",
          "data": {
            "text/plain": [
              "<Figure size 432x288 with 1 Axes>"
            ],
            "image/png": "[encoded data removed]"
          },
          "metadata": {
            "needs_background": "light"
          }
        },
        {
          "output_type": "display_data",
          "data": {
            "text/plain": [
              "<Figure size 432x288 with 1 Axes>"
            ],
            "image/png": "[encoded data removed]"
          },
          "metadata": {
            "needs_background": "light"
          }
        },
        {
          "output_type": "display_data",
          "data": {
            "text/plain": [
              "<Figure size 432x288 with 1 Axes>"
            ],
            "image/png": "[encoded data removed]"
          },
          "metadata": {
            "needs_background": "light"
          }
        },
        {
          "output_type": "display_data",
          "data": {
            "text/plain": [
              "<Figure size 432x288 with 1 Axes>"
            ],
            "image/png": "[encoded data removed]"
          },
          "metadata": {
            "needs_background": "light"
          }
        },
        {
          "output_type": "display_data",
          "data": {
            "text/plain": [
              "<Figure size 432x288 with 1 Axes>"
            ],
            "image/png": "[encoded data removed]"
          },
          "metadata": {
            "needs_background": "light"
          }
        },
        {
          "output_type": "display_data",
          "data": {
            "text/plain": [
              "<Figure size 432x288 with 1 Axes>"
            ],
            "image/png": "[encoded data removed]"
          },
          "metadata": {
            "needs_background": "light"
          }
        },
        {
          "output_type": "display_data",
          "data": {
            "text/plain": [
              "<Figure size 432x288 with 1 Axes>"
            ],
            "image/png": "[encoded data removed]"
          },
          "metadata": {
            "needs_background": "light"
          }
        },
        {
          "output_type": "display_data",
          "data": {
            "text/plain": [
              "<Figure size 432x288 with 1 Axes>"
            ],
            "image/png": "[encoded data removed]"
          },
          "metadata": {
            "needs_background": "light"
          }
        },
        {
          "output_type": "display_data",
          "data": {
            "text/plain": [
              "<Figure size 432x288 with 1 Axes>"
            ],
            "image/png": "[encoded data removed]"
          },
          "metadata": {
            "needs_background": "light"
          }
        },
        {
          "output_type": "display_data",
          "data": {
            "text/plain": [
              "<Figure size 432x288 with 1 Axes>"
            ],
            "image/png": "[encoded data removed]"
          },
          "metadata": {
            "needs_background": "light"
          }
        }
      ]
    },
    {
      "cell_type": "markdown",
      "source": [
        ":ELIMINAMOS LAS COLUMNAS QUE NO TENGAN RELEVANCIA"
      ],
      "metadata": {
        "id": "5s2FreCkQzor"
      }
    },
    {
      "cell_type": "code",
      "source": [
        "df.drop(['ip_address','user_agent','email_domain','phone_number','billing_city','billing_postal',\n",
        "         'billing_state','event_timestamp','applicant_name','billing_address','merchant_id','tranaction_initiate',\n",
        "         'days_since_last_logon','inital_amount'],axis=1,inplace=True)\n",
        "format_column_names(df)\n",
        "df.info()"
      ],
      "metadata": {
        "colab": {
          "base_uri": "https://localhost:8080/"
        },
        "id": "s7N3ItDTPz0T",
        "outputId": "e80c72f4-148f-4f61-d73f-5aedcde7ae4e"
      },
      "execution_count": null,
      "outputs": [
        {
          "output_type": "stream",
          "name": "stdout",
          "text": [
            "<class 'pandas.core.frame.DataFrame'>\n",
            "RangeIndex: 150000 entries, 0 to 149999\n",
            "Data columns (total 12 columns):\n",
            " #   Column               Non-Null Count   Dtype  \n",
            "---  ------               --------------   -----  \n",
            " 0   account_age_days     149892 non-null  float64\n",
            " 1   transaction_amt      149870 non-null  float64\n",
            " 2   transaction_adj_amt  149886 non-null  float64\n",
            " 3   historic_velocity    149885 non-null  float64\n",
            " 4   card_bin             149872 non-null  float64\n",
            " 5   currency             150000 non-null  int8   \n",
            " 6   cvv                  150000 non-null  int8   \n",
            " 7   signature_image      150000 non-null  int8   \n",
            " 8   transaction_type     150000 non-null  int8   \n",
            " 9   transaction_env      150000 non-null  int8   \n",
            " 10  locale               150000 non-null  int16  \n",
            " 11  event_label          150000 non-null  int64  \n",
            "dtypes: float64(5), int16(1), int64(1), int8(5)\n",
            "memory usage: 7.9 MB\n"
          ]
        }
      ]
    },
    {
      "cell_type": "markdown",
      "source": [
        "##IMPUTAR DATOS FALTANTES"
      ],
      "metadata": {
        "id": "5vw9FcdHl0z9"
      }
    },
    {
      "cell_type": "code",
      "source": [
        "f, ax = plt.subplots(figsize=(5, 5))\n",
        "ax = sns.countplot(x=\"event_label\", data=df, palette=\"Set1\")\n",
        "plt.show()"
      ],
      "metadata": {
        "colab": {
          "base_uri": "https://localhost:8080/",
          "height": 335
        },
        "id": "6oTtXHC3l4sO",
        "outputId": "e5bdf2dc-0286-4ff4-b7f7-da3724f911bf"
      },
      "execution_count": null,
      "outputs": [
        {
          "output_type": "display_data",
          "data": {
            "text/plain": [
              "<Figure size 360x360 with 1 Axes>"
            ],
            "image/png": "[encoded data removed]"
          },
          "metadata": {
            "needs_background": "light"
          }
        }
      ]
    },
    {
      "cell_type": "markdown",
      "source": [
        "##Imputar datos faltantes con KNNImputer"
      ],
      "metadata": {
        "id": "hY5sFM2Eq5Is"
      }
    },
    {
      "cell_type": "code",
      "source": [
        "#SE IMPUTAN LOS DATOS\n",
        "imputer = KNNImputer(n_neighbors=5)\n",
        "df.iloc[:,:] = imputer.fit_transform(df)\n",
        "df.info()"
      ],
      "metadata": {
        "colab": {
          "base_uri": "https://localhost:8080/"
        },
        "id": "WblA-8heq3jU",
        "outputId": "49508571-5b42-490b-8792-fbf9f93d192f"
      },
      "execution_count": null,
      "outputs": [
        {
          "output_type": "stream",
          "name": "stdout",
          "text": [
            "<class 'pandas.core.frame.DataFrame'>\n",
            "RangeIndex: 150000 entries, 0 to 149999\n",
            "Data columns (total 12 columns):\n",
            " #   Column               Non-Null Count   Dtype  \n",
            "---  ------               --------------   -----  \n",
            " 0   account_age_days     150000 non-null  float64\n",
            " 1   transaction_amt      150000 non-null  float64\n",
            " 2   transaction_adj_amt  150000 non-null  float64\n",
            " 3   historic_velocity    150000 non-null  float64\n",
            " 4   card_bin             150000 non-null  float64\n",
            " 5   currency             150000 non-null  float64\n",
            " 6   cvv                  150000 non-null  float64\n",
            " 7   signature_image      150000 non-null  float64\n",
            " 8   transaction_type     150000 non-null  float64\n",
            " 9   transaction_env      150000 non-null  float64\n",
            " 10  locale               150000 non-null  float64\n",
            " 11  event_label          150000 non-null  float64\n",
            "dtypes: float64(12)\n",
            "memory usage: 13.7 MB\n"
          ]
        }
      ]
    },
    {
      "cell_type": "code",
      "source": [
        "#SE VERIFICA SI LAS COLUMNAS SIGUEN TENIENDO DATOS FALTANTES\n",
        "df.isnull().sum()"
      ],
      "metadata": {
        "colab": {
          "base_uri": "https://localhost:8080/"
        },
        "id": "QhLQet0FrNB1",
        "outputId": "6634dfa9-e96b-4026-80c9-624c074f91fe"
      },
      "execution_count": null,
      "outputs": [
        {
          "output_type": "execute_result",
          "data": {
            "text/plain": [
              "account_age_days       0\n",
              "transaction_amt        0\n",
              "transaction_adj_amt    0\n",
              "historic_velocity      0\n",
              "card_bin               0\n",
              "currency               0\n",
              "cvv                    0\n",
              "signature_image        0\n",
              "transaction_type       0\n",
              "transaction_env        0\n",
              "locale                 0\n",
              "event_label            0\n",
              "dtype: int64"
            ]
          },
          "metadata": {},
          "execution_count": 20
        }
      ]
    },
    {
      "cell_type": "code",
      "source": [
        "dfescalar = df.loc[:,'account_age_days':'locale']\n",
        "dfescalar.head()"
      ],
      "metadata": {
        "colab": {
          "base_uri": "https://localhost:8080/",
          "height": 250
        },
        "id": "GMSqiFS94Lzf",
        "outputId": "c7d17d6b-1ab3-4b4e-c6dc-5ccc31449fc8"
      },
      "execution_count": null,
      "outputs": [
        {
          "output_type": "execute_result",
          "data": {
            "text/plain": [
              "   account_age_days  transaction_amt  transaction_adj_amt  historic_velocity  \\\n",
              "0            3371.0           2167.0                 56.0             2572.0   \n",
              "1            2714.0           2045.0                 48.0             4517.0   \n",
              "2            6987.0           2892.0                 61.0             5007.0   \n",
              "3            2712.0           3040.0                 28.0             6022.0   \n",
              "4            3598.0           2976.0                 66.0             2600.0   \n",
              "\n",
              "   card_bin  currency   cvv  signature_image  transaction_type  \\\n",
              "0   40771.0       0.0   3.0              5.0              20.0   \n",
              "1   24480.0       0.0  23.0             23.0               7.0   \n",
              "2   37778.0       0.0  23.0             16.0              23.0   \n",
              "3   55790.0       2.0   6.0              6.0               2.0   \n",
              "4   37370.0       0.0  23.0              5.0               5.0   \n",
              "\n",
              "   transaction_env  locale  \n",
              "0             23.0   202.0  \n",
              "1             22.0     7.0  \n",
              "2             23.0    76.0  \n",
              "3             13.0    55.0  \n",
              "4              6.0   261.0  "
            ],
            "text/html": [
              "\n",
              "  <div id=\"df-290c801e-3896-4355-b642-57fdc33fd36c\">\n",
              "    <div class=\"colab-df-container\">\n",
              "      <div>\n",
              "<style scoped>\n",
              "    .dataframe tbody tr th:only-of-type {\n",
              "        vertical-align: middle;\n",
              "    }\n",
              "\n",
              "    .dataframe tbody tr th {\n",
              "        vertical-align: top;\n",
              "    }\n",
              "\n",
              "    .dataframe thead th {\n",
              "        text-align: right;\n",
              "    }\n",
              "</style>\n",
              "<table border=\"1\" class=\"dataframe\">\n",
              "  <thead>\n",
              "    <tr style=\"text-align: right;\">\n",
              "      <th></th>\n",
              "      <th>account_age_days</th>\n",
              "      <th>transaction_amt</th>\n",
              "      <th>transaction_adj_amt</th>\n",
              "      <th>historic_velocity</th>\n",
              "      <th>card_bin</th>\n",
              "      <th>currency</th>\n",
              "      <th>cvv</th>\n",
              "      <th>signature_image</th>\n",
              "      <th>transaction_type</th>\n",
              "      <th>transaction_env</th>\n",
              "      <th>locale</th>\n",
              "    </tr>\n",
              "  </thead>\n",
              "  <tbody>\n",
              "    <tr>\n",
              "      <th>0</th>\n",
              "      <td>3371.0</td>\n",
              "      <td>2167.0</td>\n",
              "      <td>56.0</td>\n",
              "      <td>2572.0</td>\n",
              "      <td>40771.0</td>\n",
              "      <td>0.0</td>\n",
              "      <td>3.0</td>\n",
              "      <td>5.0</td>\n",
              "      <td>20.0</td>\n",
              "      <td>23.0</td>\n",
              "      <td>202.0</td>\n",
              "    </tr>\n",
              "    <tr>\n",
              "      <th>1</th>\n",
              "      <td>2714.0</td>\n",
              "      <td>2045.0</td>\n",
              "      <td>48.0</td>\n",
              "      <td>4517.0</td>\n",
              "      <td>24480.0</td>\n",
              "      <td>0.0</td>\n",
              "      <td>23.0</td>\n",
              "      <td>23.0</td>\n",
              "      <td>7.0</td>\n",
              "      <td>22.0</td>\n",
              "      <td>7.0</td>\n",
              "    </tr>\n",
              "    <tr>\n",
              "      <th>2</th>\n",
              "      <td>6987.0</td>\n",
              "      <td>2892.0</td>\n",
              "      <td>61.0</td>\n",
              "      <td>5007.0</td>\n",
              "      <td>37778.0</td>\n",
              "      <td>0.0</td>\n",
              "      <td>23.0</td>\n",
              "      <td>16.0</td>\n",
              "      <td>23.0</td>\n",
              "      <td>23.0</td>\n",
              "      <td>76.0</td>\n",
              "    </tr>\n",
              "    <tr>\n",
              "      <th>3</th>\n",
              "      <td>2712.0</td>\n",
              "      <td>3040.0</td>\n",
              "      <td>28.0</td>\n",
              "      <td>6022.0</td>\n",
              "      <td>55790.0</td>\n",
              "      <td>2.0</td>\n",
              "      <td>6.0</td>\n",
              "      <td>6.0</td>\n",
              "      <td>2.0</td>\n",
              "      <td>13.0</td>\n",
              "      <td>55.0</td>\n",
              "    </tr>\n",
              "    <tr>\n",
              "      <th>4</th>\n",
              "      <td>3598.0</td>\n",
              "      <td>2976.0</td>\n",
              "      <td>66.0</td>\n",
              "      <td>2600.0</td>\n",
              "      <td>37370.0</td>\n",
              "      <td>0.0</td>\n",
              "      <td>23.0</td>\n",
              "      <td>5.0</td>\n",
              "      <td>5.0</td>\n",
              "      <td>6.0</td>\n",
              "      <td>261.0</td>\n",
              "    </tr>\n",
              "  </tbody>\n",
              "</table>\n",
              "</div>\n",
              "      <button class=\"colab-df-convert\" onclick=\"convertToInteractive('df-290c801e-3896-4355-b642-57fdc33fd36c')\"\n",
              "              title=\"Convert this dataframe to an interactive table.\"\n",
              "              style=\"display:none;\">\n",
              "        \n",
              "  <svg xmlns=\"http://www.w3.org/2000/svg\" height=\"24px\"viewBox=\"0 0 24 24\"\n",
              "       width=\"24px\">\n",
              "    <path d=\"M0 0h24v24H0V0z\" fill=\"none\"/>\n",
              "    <path d=\"M18.56 5.44l.94 2.06.94-2.06 2.06-.94-2.06-.94-.94-2.06-.94 2.06-2.06.94zm-11 1L8.5 8.5l.94-2.06 2.06-.94-2.06-.94L8.5 2.5l-.94 2.06-2.06.94zm10 10l.94 2.06.94-2.06 2.06-.94-2.06-.94-.94-2.06-.94 2.06-2.06.94z\"/><path d=\"M17.41 7.96l-1.37-1.37c-.4-.4-.92-.59-1.43-.59-.52 0-1.04.2-1.43.59L10.3 9.45l-7.72 7.72c-.78.78-.78 2.05 0 2.83L4 21.41c.39.39.9.59 1.41.59.51 0 1.02-.2 1.41-.59l7.78-7.78 2.81-2.81c.8-.78.8-2.07 0-2.86zM5.41 20L4 18.59l7.72-7.72 1.47 1.35L5.41 20z\"/>\n",
              "  </svg>\n",
              "      </button>\n",
              "      \n",
              "  <style>\n",
              "    .colab-df-container {\n",
              "      display:flex;\n",
              "      flex-wrap:wrap;\n",
              "      gap: 12px;\n",
              "    }\n",
              "\n",
              "    .colab-df-convert {\n",
              "      background-color: #E8F0FE;\n",
              "      border: none;\n",
              "      border-radius: 50%;\n",
              "      cursor: pointer;\n",
              "      display: none;\n",
              "      fill: #1967D2;\n",
              "      height: 32px;\n",
              "      padding: 0 0 0 0;\n",
              "      width: 32px;\n",
              "    }\n",
              "\n",
              "    .colab-df-convert:hover {\n",
              "      background-color: #E2EBFA;\n",
              "      box-shadow: 0px 1px 2px rgba(60, 64, 67, 0.3), 0px 1px 3px 1px rgba(60, 64, 67, 0.15);\n",
              "      fill: #174EA6;\n",
              "    }\n",
              "\n",
              "    [theme=dark] .colab-df-convert {\n",
              "      background-color: #3B4455;\n",
              "      fill: #D2E3FC;\n",
              "    }\n",
              "\n",
              "    [theme=dark] .colab-df-convert:hover {\n",
              "      background-color: #434B5C;\n",
              "      box-shadow: 0px 1px 3px 1px rgba(0, 0, 0, 0.15);\n",
              "      filter: drop-shadow(0px 1px 2px rgba(0, 0, 0, 0.3));\n",
              "      fill: #FFFFFF;\n",
              "    }\n",
              "  </style>\n",
              "\n",
              "      <script>\n",
              "        const buttonEl =\n",
              "          document.querySelector('#df-290c801e-3896-4355-b642-57fdc33fd36c button.colab-df-convert');\n",
              "        buttonEl.style.display =\n",
              "          google.colab.kernel.accessAllowed ? 'block' : 'none';\n",
              "\n",
              "        async function convertToInteractive(key) {\n",
              "          const element = document.querySelector('#df-290c801e-3896-4355-b642-57fdc33fd36c');\n",
              "          const dataTable =\n",
              "            await google.colab.kernel.invokeFunction('convertToInteractive',\n",
              "                                                     [key], {});\n",
              "          if (!dataTable) return;\n",
              "\n",
              "          const docLinkHtml = 'Like what you see? Visit the ' +\n",
              "            '<a target=\"_blank\" href=https://colab.research.google.com/notebooks/data_table.ipynb>data table notebook</a>'\n",
              "            + ' to learn more about interactive tables.';\n",
              "          element.innerHTML = '';\n",
              "          dataTable['output_type'] = 'display_data';\n",
              "          await google.colab.output.renderOutput(dataTable, element);\n",
              "          const docLink = document.createElement('div');\n",
              "          docLink.innerHTML = docLinkHtml;\n",
              "          element.appendChild(docLink);\n",
              "        }\n",
              "      </script>\n",
              "    </div>\n",
              "  </div>\n",
              "  "
            ]
          },
          "metadata": {},
          "execution_count": 21
        }
      ]
    },
    {
      "cell_type": "code",
      "source": [
        "#escalar datos \n",
        "nombres_colms = dfescalar.columns\n",
        "from sklearn.compose import ColumnTransformer\n",
        "from sklearn.preprocessing import MinMaxScaler\n",
        "\n",
        "dfEscalado = ColumnTransformer([('escalar',MinMaxScaler(feature_range=(0,1)),nombres_colms)])\n",
        "dfEscalado"
      ],
      "metadata": {
        "colab": {
          "base_uri": "https://localhost:8080/"
        },
        "id": "fJ_qc4a76lwt",
        "outputId": "a2db44ec-168d-47cf-bb52-2e22d0d6d9d9"
      },
      "execution_count": null,
      "outputs": [
        {
          "output_type": "execute_result",
          "data": {
            "text/plain": [
              "ColumnTransformer(transformers=[('escalar', MinMaxScaler(),\n",
              "                                 Index(['account_age_days', 'transaction_amt', 'transaction_adj_amt',\n",
              "       'historic_velocity', 'card_bin', 'currency', 'cvv', 'signature_image',\n",
              "       'transaction_type', 'transaction_env', 'locale'],\n",
              "      dtype='object'))])"
            ]
          },
          "metadata": {},
          "execution_count": 22
        }
      ]
    },
    {
      "cell_type": "code",
      "source": [
        "dfEs = dfEscalado.fit_transform(dfescalar)\n",
        "dfEs"
      ],
      "metadata": {
        "colab": {
          "base_uri": "https://localhost:8080/"
        },
        "id": "LaBt3MoTAJz7",
        "outputId": "b79226f5-337b-404f-b62f-68a6c2158528"
      },
      "execution_count": null,
      "outputs": [
        {
          "output_type": "execute_result",
          "data": {
            "text/plain": [
              "array([[0.3695986 , 0.4329195 , 0.56122449, ..., 0.80769231, 0.92307692,\n",
              "        0.69283276],\n",
              "       [0.29754332, 0.40849019, 0.47959184, ..., 0.30769231, 0.88461538,\n",
              "        0.02730375],\n",
              "       [0.76617679, 0.57809371, 0.6122449 , ..., 0.92307692, 0.92307692,\n",
              "        0.26279863],\n",
              "       ...,\n",
              "       [0.52423777, 0.67400881, 0.47959184, ..., 0.34615385, 0.15384615,\n",
              "        0.95904437],\n",
              "       [0.66725159, 0.4607529 , 0.59183673, ..., 1.        , 0.92307692,\n",
              "        0.55631399],\n",
              "       [0.56810704, 0.62935523, 0.68367347, ..., 1.        , 1.        ,\n",
              "        0.55631399]])"
            ]
          },
          "metadata": {},
          "execution_count": 23
        }
      ]
    },
    {
      "cell_type": "code",
      "source": [
        "datosEscalados = pd.DataFrame(dfEs)\n",
        "datosEscalados"
      ],
      "metadata": {
        "colab": {
          "base_uri": "https://localhost:8080/",
          "height": 424
        },
        "id": "eKjtmlqaAm-3",
        "outputId": "42febc6c-bb47-4cfe-a3b4-afdf53a3371a"
      },
      "execution_count": null,
      "outputs": [
        {
          "output_type": "execute_result",
          "data": {
            "text/plain": [
              "              0         1         2         3         4         5         6   \\\n",
              "0       0.369599  0.432920  0.561224  0.253493  0.563824  0.333333  0.153846   \n",
              "1       0.297543  0.408490  0.479592  0.448990  0.299356  0.333333  0.923077   \n",
              "2       0.766177  0.578094  0.612245  0.498241  0.515236  0.333333  0.923077   \n",
              "3       0.297324  0.607729  0.275510  0.600261  0.807643  1.000000  0.269231   \n",
              "4       0.394494  0.594914  0.663265  0.256307  0.508612  0.333333  0.923077   \n",
              "...          ...       ...       ...       ...       ...       ...       ...   \n",
              "149995  0.437048  0.577693  0.571429  0.451704  0.389243  0.333333  0.884615   \n",
              "149996  0.639724  0.374449  0.612245  0.434114  0.965389  0.333333  0.346154   \n",
              "149997  0.524238  0.674009  0.479592  0.511107  0.666228  0.333333  0.153846   \n",
              "149998  0.667252  0.460753  0.591837  0.482058  0.322262  0.333333  0.923077   \n",
              "149999  0.568107  0.629355  0.683673  0.496231  0.474277  0.333333  0.269231   \n",
              "\n",
              "              7         8         9         10  \n",
              "0       0.230769  0.807692  0.923077  0.692833  \n",
              "1       0.923077  0.307692  0.884615  0.027304  \n",
              "2       0.653846  0.923077  0.923077  0.262799  \n",
              "3       0.269231  0.115385  0.538462  0.191126  \n",
              "4       0.230769  0.230769  0.269231  0.894198  \n",
              "...          ...       ...       ...       ...  \n",
              "149995  0.153846  0.730769  0.884615  0.976109  \n",
              "149996  0.923077  0.884615  1.000000  0.897611  \n",
              "149997  0.307692  0.346154  0.153846  0.959044  \n",
              "149998  0.807692  1.000000  0.923077  0.556314  \n",
              "149999  0.807692  1.000000  1.000000  0.556314  \n",
              "\n",
              "[150000 rows x 11 columns]"
            ],
            "text/html": [
              "\n",
              "  <div id=\"df-15e0adc1-0dea-4833-b9d4-81204c79bb99\">\n",
              "    <div class=\"colab-df-container\">\n",
              "      <div>\n",
              "<style scoped>\n",
              "    .dataframe tbody tr th:only-of-type {\n",
              "        vertical-align: middle;\n",
              "    }\n",
              "\n",
              "    .dataframe tbody tr th {\n",
              "        vertical-align: top;\n",
              "    }\n",
              "\n",
              "    .dataframe thead th {\n",
              "        text-align: right;\n",
              "    }\n",
              "</style>\n",
              "<table border=\"1\" class=\"dataframe\">\n",
              "  <thead>\n",
              "    <tr style=\"text-align: right;\">\n",
              "      <th></th>\n",
              "      <th>0</th>\n",
              "      <th>1</th>\n",
              "      <th>2</th>\n",
              "      <th>3</th>\n",
              "      <th>4</th>\n",
              "      <th>5</th>\n",
              "      <th>6</th>\n",
              "      <th>7</th>\n",
              "      <th>8</th>\n",
              "      <th>9</th>\n",
              "      <th>10</th>\n",
              "    </tr>\n",
              "  </thead>\n",
              "  <tbody>\n",
              "    <tr>\n",
              "      <th>0</th>\n",
              "      <td>0.369599</td>\n",
              "      <td>0.432920</td>\n",
              "      <td>0.561224</td>\n",
              "      <td>0.253493</td>\n",
              "      <td>0.563824</td>\n",
              "      <td>0.333333</td>\n",
              "      <td>0.153846</td>\n",
              "      <td>0.230769</td>\n",
              "      <td>0.807692</td>\n",
              "      <td>0.923077</td>\n",
              "      <td>0.692833</td>\n",
              "    </tr>\n",
              "    <tr>\n",
              "      <th>1</th>\n",
              "      <td>0.297543</td>\n",
              "      <td>0.408490</td>\n",
              "      <td>0.479592</td>\n",
              "      <td>0.448990</td>\n",
              "      <td>0.299356</td>\n",
              "      <td>0.333333</td>\n",
              "      <td>0.923077</td>\n",
              "      <td>0.923077</td>\n",
              "      <td>0.307692</td>\n",
              "      <td>0.884615</td>\n",
              "      <td>0.027304</td>\n",
              "    </tr>\n",
              "    <tr>\n",
              "      <th>2</th>\n",
              "      <td>0.766177</td>\n",
              "      <td>0.578094</td>\n",
              "      <td>0.612245</td>\n",
              "      <td>0.498241</td>\n",
              "      <td>0.515236</td>\n",
              "      <td>0.333333</td>\n",
              "      <td>0.923077</td>\n",
              "      <td>0.653846</td>\n",
              "      <td>0.923077</td>\n",
              "      <td>0.923077</td>\n",
              "      <td>0.262799</td>\n",
              "    </tr>\n",
              "    <tr>\n",
              "      <th>3</th>\n",
              "      <td>0.297324</td>\n",
              "      <td>0.607729</td>\n",
              "      <td>0.275510</td>\n",
              "      <td>0.600261</td>\n",
              "      <td>0.807643</td>\n",
              "      <td>1.000000</td>\n",
              "      <td>0.269231</td>\n",
              "      <td>0.269231</td>\n",
              "      <td>0.115385</td>\n",
              "      <td>0.538462</td>\n",
              "      <td>0.191126</td>\n",
              "    </tr>\n",
              "    <tr>\n",
              "      <th>4</th>\n",
              "      <td>0.394494</td>\n",
              "      <td>0.594914</td>\n",
              "      <td>0.663265</td>\n",
              "      <td>0.256307</td>\n",
              "      <td>0.508612</td>\n",
              "      <td>0.333333</td>\n",
              "      <td>0.923077</td>\n",
              "      <td>0.230769</td>\n",
              "      <td>0.230769</td>\n",
              "      <td>0.269231</td>\n",
              "      <td>0.894198</td>\n",
              "    </tr>\n",
              "    <tr>\n",
              "      <th>...</th>\n",
              "      <td>...</td>\n",
              "      <td>...</td>\n",
              "      <td>...</td>\n",
              "      <td>...</td>\n",
              "      <td>...</td>\n",
              "      <td>...</td>\n",
              "      <td>...</td>\n",
              "      <td>...</td>\n",
              "      <td>...</td>\n",
              "      <td>...</td>\n",
              "      <td>...</td>\n",
              "    </tr>\n",
              "    <tr>\n",
              "      <th>149995</th>\n",
              "      <td>0.437048</td>\n",
              "      <td>0.577693</td>\n",
              "      <td>0.571429</td>\n",
              "      <td>0.451704</td>\n",
              "      <td>0.389243</td>\n",
              "      <td>0.333333</td>\n",
              "      <td>0.884615</td>\n",
              "      <td>0.153846</td>\n",
              "      <td>0.730769</td>\n",
              "      <td>0.884615</td>\n",
              "      <td>0.976109</td>\n",
              "    </tr>\n",
              "    <tr>\n",
              "      <th>149996</th>\n",
              "      <td>0.639724</td>\n",
              "      <td>0.374449</td>\n",
              "      <td>0.612245</td>\n",
              "      <td>0.434114</td>\n",
              "      <td>0.965389</td>\n",
              "      <td>0.333333</td>\n",
              "      <td>0.346154</td>\n",
              "      <td>0.923077</td>\n",
              "      <td>0.884615</td>\n",
              "      <td>1.000000</td>\n",
              "      <td>0.897611</td>\n",
              "    </tr>\n",
              "    <tr>\n",
              "      <th>149997</th>\n",
              "      <td>0.524238</td>\n",
              "      <td>0.674009</td>\n",
              "      <td>0.479592</td>\n",
              "      <td>0.511107</td>\n",
              "      <td>0.666228</td>\n",
              "      <td>0.333333</td>\n",
              "      <td>0.153846</td>\n",
              "      <td>0.307692</td>\n",
              "      <td>0.346154</td>\n",
              "      <td>0.153846</td>\n",
              "      <td>0.959044</td>\n",
              "    </tr>\n",
              "    <tr>\n",
              "      <th>149998</th>\n",
              "      <td>0.667252</td>\n",
              "      <td>0.460753</td>\n",
              "      <td>0.591837</td>\n",
              "      <td>0.482058</td>\n",
              "      <td>0.322262</td>\n",
              "      <td>0.333333</td>\n",
              "      <td>0.923077</td>\n",
              "      <td>0.807692</td>\n",
              "      <td>1.000000</td>\n",
              "      <td>0.923077</td>\n",
              "      <td>0.556314</td>\n",
              "    </tr>\n",
              "    <tr>\n",
              "      <th>149999</th>\n",
              "      <td>0.568107</td>\n",
              "      <td>0.629355</td>\n",
              "      <td>0.683673</td>\n",
              "      <td>0.496231</td>\n",
              "      <td>0.474277</td>\n",
              "      <td>0.333333</td>\n",
              "      <td>0.269231</td>\n",
              "      <td>0.807692</td>\n",
              "      <td>1.000000</td>\n",
              "      <td>1.000000</td>\n",
              "      <td>0.556314</td>\n",
              "    </tr>\n",
              "  </tbody>\n",
              "</table>\n",
              "<p>150000 rows × 11 columns</p>\n",
              "</div>\n",
              "      <button class=\"colab-df-convert\" onclick=\"convertToInteractive('df-15e0adc1-0dea-4833-b9d4-81204c79bb99')\"\n",
              "              title=\"Convert this dataframe to an interactive table.\"\n",
              "              style=\"display:none;\">\n",
              "        \n",
              "  <svg xmlns=\"http://www.w3.org/2000/svg\" height=\"24px\"viewBox=\"0 0 24 24\"\n",
              "       width=\"24px\">\n",
              "    <path d=\"M0 0h24v24H0V0z\" fill=\"none\"/>\n",
              "    <path d=\"M18.56 5.44l.94 2.06.94-2.06 2.06-.94-2.06-.94-.94-2.06-.94 2.06-2.06.94zm-11 1L8.5 8.5l.94-2.06 2.06-.94-2.06-.94L8.5 2.5l-.94 2.06-2.06.94zm10 10l.94 2.06.94-2.06 2.06-.94-2.06-.94-.94-2.06-.94 2.06-2.06.94z\"/><path d=\"M17.41 7.96l-1.37-1.37c-.4-.4-.92-.59-1.43-.59-.52 0-1.04.2-1.43.59L10.3 9.45l-7.72 7.72c-.78.78-.78 2.05 0 2.83L4 21.41c.39.39.9.59 1.41.59.51 0 1.02-.2 1.41-.59l7.78-7.78 2.81-2.81c.8-.78.8-2.07 0-2.86zM5.41 20L4 18.59l7.72-7.72 1.47 1.35L5.41 20z\"/>\n",
              "  </svg>\n",
              "      </button>\n",
              "      \n",
              "  <style>\n",
              "    .colab-df-container {\n",
              "      display:flex;\n",
              "      flex-wrap:wrap;\n",
              "      gap: 12px;\n",
              "    }\n",
              "\n",
              "    .colab-df-convert {\n",
              "      background-color: #E8F0FE;\n",
              "      border: none;\n",
              "      border-radius: 50%;\n",
              "      cursor: pointer;\n",
              "      display: none;\n",
              "      fill: #1967D2;\n",
              "      height: 32px;\n",
              "      padding: 0 0 0 0;\n",
              "      width: 32px;\n",
              "    }\n",
              "\n",
              "    .colab-df-convert:hover {\n",
              "      background-color: #E2EBFA;\n",
              "      box-shadow: 0px 1px 2px rgba(60, 64, 67, 0.3), 0px 1px 3px 1px rgba(60, 64, 67, 0.15);\n",
              "      fill: #174EA6;\n",
              "    }\n",
              "\n",
              "    [theme=dark] .colab-df-convert {\n",
              "      background-color: #3B4455;\n",
              "      fill: #D2E3FC;\n",
              "    }\n",
              "\n",
              "    [theme=dark] .colab-df-convert:hover {\n",
              "      background-color: #434B5C;\n",
              "      box-shadow: 0px 1px 3px 1px rgba(0, 0, 0, 0.15);\n",
              "      filter: drop-shadow(0px 1px 2px rgba(0, 0, 0, 0.3));\n",
              "      fill: #FFFFFF;\n",
              "    }\n",
              "  </style>\n",
              "\n",
              "      <script>\n",
              "        const buttonEl =\n",
              "          document.querySelector('#df-15e0adc1-0dea-4833-b9d4-81204c79bb99 button.colab-df-convert');\n",
              "        buttonEl.style.display =\n",
              "          google.colab.kernel.accessAllowed ? 'block' : 'none';\n",
              "\n",
              "        async function convertToInteractive(key) {\n",
              "          const element = document.querySelector('#df-15e0adc1-0dea-4833-b9d4-81204c79bb99');\n",
              "          const dataTable =\n",
              "            await google.colab.kernel.invokeFunction('convertToInteractive',\n",
              "                                                     [key], {});\n",
              "          if (!dataTable) return;\n",
              "\n",
              "          const docLinkHtml = 'Like what you see? Visit the ' +\n",
              "            '<a target=\"_blank\" href=https://colab.research.google.com/notebooks/data_table.ipynb>data table notebook</a>'\n",
              "            + ' to learn more about interactive tables.';\n",
              "          element.innerHTML = '';\n",
              "          dataTable['output_type'] = 'display_data';\n",
              "          await google.colab.output.renderOutput(dataTable, element);\n",
              "          const docLink = document.createElement('div');\n",
              "          docLink.innerHTML = docLinkHtml;\n",
              "          element.appendChild(docLink);\n",
              "        }\n",
              "      </script>\n",
              "    </div>\n",
              "  </div>\n",
              "  "
            ]
          },
          "metadata": {},
          "execution_count": 24
        }
      ]
    },
    {
      "cell_type": "code",
      "source": [
        "datosEscalados.columns = list(dfescalar.columns.values)\n",
        "datosEscalados"
      ],
      "metadata": {
        "colab": {
          "base_uri": "https://localhost:8080/",
          "height": 488
        },
        "id": "_F7bCmBmA-ez",
        "outputId": "00b56bf4-ddbd-4ce0-9458-56977f36d31c"
      },
      "execution_count": null,
      "outputs": [
        {
          "output_type": "execute_result",
          "data": {
            "text/plain": [
              "        account_age_days  transaction_amt  transaction_adj_amt  \\\n",
              "0               0.369599         0.432920             0.561224   \n",
              "1               0.297543         0.408490             0.479592   \n",
              "2               0.766177         0.578094             0.612245   \n",
              "3               0.297324         0.607729             0.275510   \n",
              "4               0.394494         0.594914             0.663265   \n",
              "...                  ...              ...                  ...   \n",
              "149995          0.437048         0.577693             0.571429   \n",
              "149996          0.639724         0.374449             0.612245   \n",
              "149997          0.524238         0.674009             0.479592   \n",
              "149998          0.667252         0.460753             0.591837   \n",
              "149999          0.568107         0.629355             0.683673   \n",
              "\n",
              "        historic_velocity  card_bin  currency       cvv  signature_image  \\\n",
              "0                0.253493  0.563824  0.333333  0.153846         0.230769   \n",
              "1                0.448990  0.299356  0.333333  0.923077         0.923077   \n",
              "2                0.498241  0.515236  0.333333  0.923077         0.653846   \n",
              "3                0.600261  0.807643  1.000000  0.269231         0.269231   \n",
              "4                0.256307  0.508612  0.333333  0.923077         0.230769   \n",
              "...                   ...       ...       ...       ...              ...   \n",
              "149995           0.451704  0.389243  0.333333  0.884615         0.153846   \n",
              "149996           0.434114  0.965389  0.333333  0.346154         0.923077   \n",
              "149997           0.511107  0.666228  0.333333  0.153846         0.307692   \n",
              "149998           0.482058  0.322262  0.333333  0.923077         0.807692   \n",
              "149999           0.496231  0.474277  0.333333  0.269231         0.807692   \n",
              "\n",
              "        transaction_type  transaction_env    locale  \n",
              "0               0.807692         0.923077  0.692833  \n",
              "1               0.307692         0.884615  0.027304  \n",
              "2               0.923077         0.923077  0.262799  \n",
              "3               0.115385         0.538462  0.191126  \n",
              "4               0.230769         0.269231  0.894198  \n",
              "...                  ...              ...       ...  \n",
              "149995          0.730769         0.884615  0.976109  \n",
              "149996          0.884615         1.000000  0.897611  \n",
              "149997          0.346154         0.153846  0.959044  \n",
              "149998          1.000000         0.923077  0.556314  \n",
              "149999          1.000000         1.000000  0.556314  \n",
              "\n",
              "[150000 rows x 11 columns]"
            ],
            "text/html": [
              "\n",
              "  <div id=\"df-ac3d8d13-686f-47be-a483-67cef8590cd7\">\n",
              "    <div class=\"colab-df-container\">\n",
              "      <div>\n",
              "<style scoped>\n",
              "    .dataframe tbody tr th:only-of-type {\n",
              "        vertical-align: middle;\n",
              "    }\n",
              "\n",
              "    .dataframe tbody tr th {\n",
              "        vertical-align: top;\n",
              "    }\n",
              "\n",
              "    .dataframe thead th {\n",
              "        text-align: right;\n",
              "    }\n",
              "</style>\n",
              "<table border=\"1\" class=\"dataframe\">\n",
              "  <thead>\n",
              "    <tr style=\"text-align: right;\">\n",
              "      <th></th>\n",
              "      <th>account_age_days</th>\n",
              "      <th>transaction_amt</th>\n",
              "      <th>transaction_adj_amt</th>\n",
              "      <th>historic_velocity</th>\n",
              "      <th>card_bin</th>\n",
              "      <th>currency</th>\n",
              "      <th>cvv</th>\n",
              "      <th>signature_image</th>\n",
              "      <th>transaction_type</th>\n",
              "      <th>transaction_env</th>\n",
              "      <th>locale</th>\n",
              "    </tr>\n",
              "  </thead>\n",
              "  <tbody>\n",
              "    <tr>\n",
              "      <th>0</th>\n",
              "      <td>0.369599</td>\n",
              "      <td>0.432920</td>\n",
              "      <td>0.561224</td>\n",
              "      <td>0.253493</td>\n",
              "      <td>0.563824</td>\n",
              "      <td>0.333333</td>\n",
              "      <td>0.153846</td>\n",
              "      <td>0.230769</td>\n",
              "      <td>0.807692</td>\n",
              "      <td>0.923077</td>\n",
              "      <td>0.692833</td>\n",
              "    </tr>\n",
              "    <tr>\n",
              "      <th>1</th>\n",
              "      <td>0.297543</td>\n",
              "      <td>0.408490</td>\n",
              "      <td>0.479592</td>\n",
              "      <td>0.448990</td>\n",
              "      <td>0.299356</td>\n",
              "      <td>0.333333</td>\n",
              "      <td>0.923077</td>\n",
              "      <td>0.923077</td>\n",
              "      <td>0.307692</td>\n",
              "      <td>0.884615</td>\n",
              "      <td>0.027304</td>\n",
              "    </tr>\n",
              "    <tr>\n",
              "      <th>2</th>\n",
              "      <td>0.766177</td>\n",
              "      <td>0.578094</td>\n",
              "      <td>0.612245</td>\n",
              "      <td>0.498241</td>\n",
              "      <td>0.515236</td>\n",
              "      <td>0.333333</td>\n",
              "      <td>0.923077</td>\n",
              "      <td>0.653846</td>\n",
              "      <td>0.923077</td>\n",
              "      <td>0.923077</td>\n",
              "      <td>0.262799</td>\n",
              "    </tr>\n",
              "    <tr>\n",
              "      <th>3</th>\n",
              "      <td>0.297324</td>\n",
              "      <td>0.607729</td>\n",
              "      <td>0.275510</td>\n",
              "      <td>0.600261</td>\n",
              "      <td>0.807643</td>\n",
              "      <td>1.000000</td>\n",
              "      <td>0.269231</td>\n",
              "      <td>0.269231</td>\n",
              "      <td>0.115385</td>\n",
              "      <td>0.538462</td>\n",
              "      <td>0.191126</td>\n",
              "    </tr>\n",
              "    <tr>\n",
              "      <th>4</th>\n",
              "      <td>0.394494</td>\n",
              "      <td>0.594914</td>\n",
              "      <td>0.663265</td>\n",
              "      <td>0.256307</td>\n",
              "      <td>0.508612</td>\n",
              "      <td>0.333333</td>\n",
              "      <td>0.923077</td>\n",
              "      <td>0.230769</td>\n",
              "      <td>0.230769</td>\n",
              "      <td>0.269231</td>\n",
              "      <td>0.894198</td>\n",
              "    </tr>\n",
              "    <tr>\n",
              "      <th>...</th>\n",
              "      <td>...</td>\n",
              "      <td>...</td>\n",
              "      <td>...</td>\n",
              "      <td>...</td>\n",
              "      <td>...</td>\n",
              "      <td>...</td>\n",
              "      <td>...</td>\n",
              "      <td>...</td>\n",
              "      <td>...</td>\n",
              "      <td>...</td>\n",
              "      <td>...</td>\n",
              "    </tr>\n",
              "    <tr>\n",
              "      <th>149995</th>\n",
              "      <td>0.437048</td>\n",
              "      <td>0.577693</td>\n",
              "      <td>0.571429</td>\n",
              "      <td>0.451704</td>\n",
              "      <td>0.389243</td>\n",
              "      <td>0.333333</td>\n",
              "      <td>0.884615</td>\n",
              "      <td>0.153846</td>\n",
              "      <td>0.730769</td>\n",
              "      <td>0.884615</td>\n",
              "      <td>0.976109</td>\n",
              "    </tr>\n",
              "    <tr>\n",
              "      <th>149996</th>\n",
              "      <td>0.639724</td>\n",
              "      <td>0.374449</td>\n",
              "      <td>0.612245</td>\n",
              "      <td>0.434114</td>\n",
              "      <td>0.965389</td>\n",
              "      <td>0.333333</td>\n",
              "      <td>0.346154</td>\n",
              "      <td>0.923077</td>\n",
              "      <td>0.884615</td>\n",
              "      <td>1.000000</td>\n",
              "      <td>0.897611</td>\n",
              "    </tr>\n",
              "    <tr>\n",
              "      <th>149997</th>\n",
              "      <td>0.524238</td>\n",
              "      <td>0.674009</td>\n",
              "      <td>0.479592</td>\n",
              "      <td>0.511107</td>\n",
              "      <td>0.666228</td>\n",
              "      <td>0.333333</td>\n",
              "      <td>0.153846</td>\n",
              "      <td>0.307692</td>\n",
              "      <td>0.346154</td>\n",
              "      <td>0.153846</td>\n",
              "      <td>0.959044</td>\n",
              "    </tr>\n",
              "    <tr>\n",
              "      <th>149998</th>\n",
              "      <td>0.667252</td>\n",
              "      <td>0.460753</td>\n",
              "      <td>0.591837</td>\n",
              "      <td>0.482058</td>\n",
              "      <td>0.322262</td>\n",
              "      <td>0.333333</td>\n",
              "      <td>0.923077</td>\n",
              "      <td>0.807692</td>\n",
              "      <td>1.000000</td>\n",
              "      <td>0.923077</td>\n",
              "      <td>0.556314</td>\n",
              "    </tr>\n",
              "    <tr>\n",
              "      <th>149999</th>\n",
              "      <td>0.568107</td>\n",
              "      <td>0.629355</td>\n",
              "      <td>0.683673</td>\n",
              "      <td>0.496231</td>\n",
              "      <td>0.474277</td>\n",
              "      <td>0.333333</td>\n",
              "      <td>0.269231</td>\n",
              "      <td>0.807692</td>\n",
              "      <td>1.000000</td>\n",
              "      <td>1.000000</td>\n",
              "      <td>0.556314</td>\n",
              "    </tr>\n",
              "  </tbody>\n",
              "</table>\n",
              "<p>150000 rows × 11 columns</p>\n",
              "</div>\n",
              "      <button class=\"colab-df-convert\" onclick=\"convertToInteractive('df-ac3d8d13-686f-47be-a483-67cef8590cd7')\"\n",
              "              title=\"Convert this dataframe to an interactive table.\"\n",
              "              style=\"display:none;\">\n",
              "        \n",
              "  <svg xmlns=\"http://www.w3.org/2000/svg\" height=\"24px\"viewBox=\"0 0 24 24\"\n",
              "       width=\"24px\">\n",
              "    <path d=\"M0 0h24v24H0V0z\" fill=\"none\"/>\n",
              "    <path d=\"M18.56 5.44l.94 2.06.94-2.06 2.06-.94-2.06-.94-.94-2.06-.94 2.06-2.06.94zm-11 1L8.5 8.5l.94-2.06 2.06-.94-2.06-.94L8.5 2.5l-.94 2.06-2.06.94zm10 10l.94 2.06.94-2.06 2.06-.94-2.06-.94-.94-2.06-.94 2.06-2.06.94z\"/><path d=\"M17.41 7.96l-1.37-1.37c-.4-.4-.92-.59-1.43-.59-.52 0-1.04.2-1.43.59L10.3 9.45l-7.72 7.72c-.78.78-.78 2.05 0 2.83L4 21.41c.39.39.9.59 1.41.59.51 0 1.02-.2 1.41-.59l7.78-7.78 2.81-2.81c.8-.78.8-2.07 0-2.86zM5.41 20L4 18.59l7.72-7.72 1.47 1.35L5.41 20z\"/>\n",
              "  </svg>\n",
              "      </button>\n",
              "      \n",
              "  <style>\n",
              "    .colab-df-container {\n",
              "      display:flex;\n",
              "      flex-wrap:wrap;\n",
              "      gap: 12px;\n",
              "    }\n",
              "\n",
              "    .colab-df-convert {\n",
              "      background-color: #E8F0FE;\n",
              "      border: none;\n",
              "      border-radius: 50%;\n",
              "      cursor: pointer;\n",
              "      display: none;\n",
              "      fill: #1967D2;\n",
              "      height: 32px;\n",
              "      padding: 0 0 0 0;\n",
              "      width: 32px;\n",
              "    }\n",
              "\n",
              "    .colab-df-convert:hover {\n",
              "      background-color: #E2EBFA;\n",
              "      box-shadow: 0px 1px 2px rgba(60, 64, 67, 0.3), 0px 1px 3px 1px rgba(60, 64, 67, 0.15);\n",
              "      fill: #174EA6;\n",
              "    }\n",
              "\n",
              "    [theme=dark] .colab-df-convert {\n",
              "      background-color: #3B4455;\n",
              "      fill: #D2E3FC;\n",
              "    }\n",
              "\n",
              "    [theme=dark] .colab-df-convert:hover {\n",
              "      background-color: #434B5C;\n",
              "      box-shadow: 0px 1px 3px 1px rgba(0, 0, 0, 0.15);\n",
              "      filter: drop-shadow(0px 1px 2px rgba(0, 0, 0, 0.3));\n",
              "      fill: #FFFFFF;\n",
              "    }\n",
              "  </style>\n",
              "\n",
              "      <script>\n",
              "        const buttonEl =\n",
              "          document.querySelector('#df-ac3d8d13-686f-47be-a483-67cef8590cd7 button.colab-df-convert');\n",
              "        buttonEl.style.display =\n",
              "          google.colab.kernel.accessAllowed ? 'block' : 'none';\n",
              "\n",
              "        async function convertToInteractive(key) {\n",
              "          const element = document.querySelector('#df-ac3d8d13-686f-47be-a483-67cef8590cd7');\n",
              "          const dataTable =\n",
              "            await google.colab.kernel.invokeFunction('convertToInteractive',\n",
              "                                                     [key], {});\n",
              "          if (!dataTable) return;\n",
              "\n",
              "          const docLinkHtml = 'Like what you see? Visit the ' +\n",
              "            '<a target=\"_blank\" href=https://colab.research.google.com/notebooks/data_table.ipynb>data table notebook</a>'\n",
              "            + ' to learn more about interactive tables.';\n",
              "          element.innerHTML = '';\n",
              "          dataTable['output_type'] = 'display_data';\n",
              "          await google.colab.output.renderOutput(dataTable, element);\n",
              "          const docLink = document.createElement('div');\n",
              "          docLink.innerHTML = docLinkHtml;\n",
              "          element.appendChild(docLink);\n",
              "        }\n",
              "      </script>\n",
              "    </div>\n",
              "  </div>\n",
              "  "
            ]
          },
          "metadata": {},
          "execution_count": 25
        }
      ]
    },
    {
      "cell_type": "code",
      "source": [
        "dfcopy=df.copy()\n",
        "df=df['event_label']\n",
        "df"
      ],
      "metadata": {
        "id": "cQFyKBt-Dk_O",
        "colab": {
          "base_uri": "https://localhost:8080/"
        },
        "outputId": "37060584-17d8-432b-f24a-14ed45002dd1"
      },
      "execution_count": null,
      "outputs": [
        {
          "output_type": "execute_result",
          "data": {
            "text/plain": [
              "0         0.0\n",
              "1         0.0\n",
              "2         0.0\n",
              "3         0.0\n",
              "4         0.0\n",
              "         ... \n",
              "149995    0.0\n",
              "149996    0.0\n",
              "149997    0.0\n",
              "149998    0.0\n",
              "149999    0.0\n",
              "Name: event_label, Length: 150000, dtype: float64"
            ]
          },
          "metadata": {},
          "execution_count": 26
        }
      ]
    },
    {
      "cell_type": "code",
      "source": [
        "df = pd.concat([datosEscalados,df],axis=1)\n",
        "df"
      ],
      "metadata": {
        "colab": {
          "base_uri": "https://localhost:8080/",
          "height": 488
        },
        "id": "pxXZXBSnb4La",
        "outputId": "1073963e-792e-4b46-819b-87948f15f171"
      },
      "execution_count": null,
      "outputs": [
        {
          "output_type": "execute_result",
          "data": {
            "text/plain": [
              "        account_age_days  transaction_amt  transaction_adj_amt  \\\n",
              "0               0.369599         0.432920             0.561224   \n",
              "1               0.297543         0.408490             0.479592   \n",
              "2               0.766177         0.578094             0.612245   \n",
              "3               0.297324         0.607729             0.275510   \n",
              "4               0.394494         0.594914             0.663265   \n",
              "...                  ...              ...                  ...   \n",
              "149995          0.437048         0.577693             0.571429   \n",
              "149996          0.639724         0.374449             0.612245   \n",
              "149997          0.524238         0.674009             0.479592   \n",
              "149998          0.667252         0.460753             0.591837   \n",
              "149999          0.568107         0.629355             0.683673   \n",
              "\n",
              "        historic_velocity  card_bin  currency       cvv  signature_image  \\\n",
              "0                0.253493  0.563824  0.333333  0.153846         0.230769   \n",
              "1                0.448990  0.299356  0.333333  0.923077         0.923077   \n",
              "2                0.498241  0.515236  0.333333  0.923077         0.653846   \n",
              "3                0.600261  0.807643  1.000000  0.269231         0.269231   \n",
              "4                0.256307  0.508612  0.333333  0.923077         0.230769   \n",
              "...                   ...       ...       ...       ...              ...   \n",
              "149995           0.451704  0.389243  0.333333  0.884615         0.153846   \n",
              "149996           0.434114  0.965389  0.333333  0.346154         0.923077   \n",
              "149997           0.511107  0.666228  0.333333  0.153846         0.307692   \n",
              "149998           0.482058  0.322262  0.333333  0.923077         0.807692   \n",
              "149999           0.496231  0.474277  0.333333  0.269231         0.807692   \n",
              "\n",
              "        transaction_type  transaction_env    locale  event_label  \n",
              "0               0.807692         0.923077  0.692833          0.0  \n",
              "1               0.307692         0.884615  0.027304          0.0  \n",
              "2               0.923077         0.923077  0.262799          0.0  \n",
              "3               0.115385         0.538462  0.191126          0.0  \n",
              "4               0.230769         0.269231  0.894198          0.0  \n",
              "...                  ...              ...       ...          ...  \n",
              "149995          0.730769         0.884615  0.976109          0.0  \n",
              "149996          0.884615         1.000000  0.897611          0.0  \n",
              "149997          0.346154         0.153846  0.959044          0.0  \n",
              "149998          1.000000         0.923077  0.556314          0.0  \n",
              "149999          1.000000         1.000000  0.556314          0.0  \n",
              "\n",
              "[150000 rows x 12 columns]"
            ],
            "text/html": [
              "\n",
              "  <div id=\"df-b8e45950-5b90-4032-a34e-d09c577f1ae7\">\n",
              "    <div class=\"colab-df-container\">\n",
              "      <div>\n",
              "<style scoped>\n",
              "    .dataframe tbody tr th:only-of-type {\n",
              "        vertical-align: middle;\n",
              "    }\n",
              "\n",
              "    .dataframe tbody tr th {\n",
              "        vertical-align: top;\n",
              "    }\n",
              "\n",
              "    .dataframe thead th {\n",
              "        text-align: right;\n",
              "    }\n",
              "</style>\n",
              "<table border=\"1\" class=\"dataframe\">\n",
              "  <thead>\n",
              "    <tr style=\"text-align: right;\">\n",
              "      <th></th>\n",
              "      <th>account_age_days</th>\n",
              "      <th>transaction_amt</th>\n",
              "      <th>transaction_adj_amt</th>\n",
              "      <th>historic_velocity</th>\n",
              "      <th>card_bin</th>\n",
              "      <th>currency</th>\n",
              "      <th>cvv</th>\n",
              "      <th>signature_image</th>\n",
              "      <th>transaction_type</th>\n",
              "      <th>transaction_env</th>\n",
              "      <th>locale</th>\n",
              "      <th>event_label</th>\n",
              "    </tr>\n",
              "  </thead>\n",
              "  <tbody>\n",
              "    <tr>\n",
              "      <th>0</th>\n",
              "      <td>0.369599</td>\n",
              "      <td>0.432920</td>\n",
              "      <td>0.561224</td>\n",
              "      <td>0.253493</td>\n",
              "      <td>0.563824</td>\n",
              "      <td>0.333333</td>\n",
              "      <td>0.153846</td>\n",
              "      <td>0.230769</td>\n",
              "      <td>0.807692</td>\n",
              "      <td>0.923077</td>\n",
              "      <td>0.692833</td>\n",
              "      <td>0.0</td>\n",
              "    </tr>\n",
              "    <tr>\n",
              "      <th>1</th>\n",
              "      <td>0.297543</td>\n",
              "      <td>0.408490</td>\n",
              "      <td>0.479592</td>\n",
              "      <td>0.448990</td>\n",
              "      <td>0.299356</td>\n",
              "      <td>0.333333</td>\n",
              "      <td>0.923077</td>\n",
              "      <td>0.923077</td>\n",
              "      <td>0.307692</td>\n",
              "      <td>0.884615</td>\n",
              "      <td>0.027304</td>\n",
              "      <td>0.0</td>\n",
              "    </tr>\n",
              "    <tr>\n",
              "      <th>2</th>\n",
              "      <td>0.766177</td>\n",
              "      <td>0.578094</td>\n",
              "      <td>0.612245</td>\n",
              "      <td>0.498241</td>\n",
              "      <td>0.515236</td>\n",
              "      <td>0.333333</td>\n",
              "      <td>0.923077</td>\n",
              "      <td>0.653846</td>\n",
              "      <td>0.923077</td>\n",
              "      <td>0.923077</td>\n",
              "      <td>0.262799</td>\n",
              "      <td>0.0</td>\n",
              "    </tr>\n",
              "    <tr>\n",
              "      <th>3</th>\n",
              "      <td>0.297324</td>\n",
              "      <td>0.607729</td>\n",
              "      <td>0.275510</td>\n",
              "      <td>0.600261</td>\n",
              "      <td>0.807643</td>\n",
              "      <td>1.000000</td>\n",
              "      <td>0.269231</td>\n",
              "      <td>0.269231</td>\n",
              "      <td>0.115385</td>\n",
              "      <td>0.538462</td>\n",
              "      <td>0.191126</td>\n",
              "      <td>0.0</td>\n",
              "    </tr>\n",
              "    <tr>\n",
              "      <th>4</th>\n",
              "      <td>0.394494</td>\n",
              "      <td>0.594914</td>\n",
              "      <td>0.663265</td>\n",
              "      <td>0.256307</td>\n",
              "      <td>0.508612</td>\n",
              "      <td>0.333333</td>\n",
              "      <td>0.923077</td>\n",
              "      <td>0.230769</td>\n",
              "      <td>0.230769</td>\n",
              "      <td>0.269231</td>\n",
              "      <td>0.894198</td>\n",
              "      <td>0.0</td>\n",
              "    </tr>\n",
              "    <tr>\n",
              "      <th>...</th>\n",
              "      <td>...</td>\n",
              "      <td>...</td>\n",
              "      <td>...</td>\n",
              "      <td>...</td>\n",
              "      <td>...</td>\n",
              "      <td>...</td>\n",
              "      <td>...</td>\n",
              "      <td>...</td>\n",
              "      <td>...</td>\n",
              "      <td>...</td>\n",
              "      <td>...</td>\n",
              "      <td>...</td>\n",
              "    </tr>\n",
              "    <tr>\n",
              "      <th>149995</th>\n",
              "      <td>0.437048</td>\n",
              "      <td>0.577693</td>\n",
              "      <td>0.571429</td>\n",
              "      <td>0.451704</td>\n",
              "      <td>0.389243</td>\n",
              "      <td>0.333333</td>\n",
              "      <td>0.884615</td>\n",
              "      <td>0.153846</td>\n",
              "      <td>0.730769</td>\n",
              "      <td>0.884615</td>\n",
              "      <td>0.976109</td>\n",
              "      <td>0.0</td>\n",
              "    </tr>\n",
              "    <tr>\n",
              "      <th>149996</th>\n",
              "      <td>0.639724</td>\n",
              "      <td>0.374449</td>\n",
              "      <td>0.612245</td>\n",
              "      <td>0.434114</td>\n",
              "      <td>0.965389</td>\n",
              "      <td>0.333333</td>\n",
              "      <td>0.346154</td>\n",
              "      <td>0.923077</td>\n",
              "      <td>0.884615</td>\n",
              "      <td>1.000000</td>\n",
              "      <td>0.897611</td>\n",
              "      <td>0.0</td>\n",
              "    </tr>\n",
              "    <tr>\n",
              "      <th>149997</th>\n",
              "      <td>0.524238</td>\n",
              "      <td>0.674009</td>\n",
              "      <td>0.479592</td>\n",
              "      <td>0.511107</td>\n",
              "      <td>0.666228</td>\n",
              "      <td>0.333333</td>\n",
              "      <td>0.153846</td>\n",
              "      <td>0.307692</td>\n",
              "      <td>0.346154</td>\n",
              "      <td>0.153846</td>\n",
              "      <td>0.959044</td>\n",
              "      <td>0.0</td>\n",
              "    </tr>\n",
              "    <tr>\n",
              "      <th>149998</th>\n",
              "      <td>0.667252</td>\n",
              "      <td>0.460753</td>\n",
              "      <td>0.591837</td>\n",
              "      <td>0.482058</td>\n",
              "      <td>0.322262</td>\n",
              "      <td>0.333333</td>\n",
              "      <td>0.923077</td>\n",
              "      <td>0.807692</td>\n",
              "      <td>1.000000</td>\n",
              "      <td>0.923077</td>\n",
              "      <td>0.556314</td>\n",
              "      <td>0.0</td>\n",
              "    </tr>\n",
              "    <tr>\n",
              "      <th>149999</th>\n",
              "      <td>0.568107</td>\n",
              "      <td>0.629355</td>\n",
              "      <td>0.683673</td>\n",
              "      <td>0.496231</td>\n",
              "      <td>0.474277</td>\n",
              "      <td>0.333333</td>\n",
              "      <td>0.269231</td>\n",
              "      <td>0.807692</td>\n",
              "      <td>1.000000</td>\n",
              "      <td>1.000000</td>\n",
              "      <td>0.556314</td>\n",
              "      <td>0.0</td>\n",
              "    </tr>\n",
              "  </tbody>\n",
              "</table>\n",
              "<p>150000 rows × 12 columns</p>\n",
              "</div>\n",
              "      <button class=\"colab-df-convert\" onclick=\"convertToInteractive('df-b8e45950-5b90-4032-a34e-d09c577f1ae7')\"\n",
              "              title=\"Convert this dataframe to an interactive table.\"\n",
              "              style=\"display:none;\">\n",
              "        \n",
              "  <svg xmlns=\"http://www.w3.org/2000/svg\" height=\"24px\"viewBox=\"0 0 24 24\"\n",
              "       width=\"24px\">\n",
              "    <path d=\"M0 0h24v24H0V0z\" fill=\"none\"/>\n",
              "    <path d=\"M18.56 5.44l.94 2.06.94-2.06 2.06-.94-2.06-.94-.94-2.06-.94 2.06-2.06.94zm-11 1L8.5 8.5l.94-2.06 2.06-.94-2.06-.94L8.5 2.5l-.94 2.06-2.06.94zm10 10l.94 2.06.94-2.06 2.06-.94-2.06-.94-.94-2.06-.94 2.06-2.06.94z\"/><path d=\"M17.41 7.96l-1.37-1.37c-.4-.4-.92-.59-1.43-.59-.52 0-1.04.2-1.43.59L10.3 9.45l-7.72 7.72c-.78.78-.78 2.05 0 2.83L4 21.41c.39.39.9.59 1.41.59.51 0 1.02-.2 1.41-.59l7.78-7.78 2.81-2.81c.8-.78.8-2.07 0-2.86zM5.41 20L4 18.59l7.72-7.72 1.47 1.35L5.41 20z\"/>\n",
              "  </svg>\n",
              "      </button>\n",
              "      \n",
              "  <style>\n",
              "    .colab-df-container {\n",
              "      display:flex;\n",
              "      flex-wrap:wrap;\n",
              "      gap: 12px;\n",
              "    }\n",
              "\n",
              "    .colab-df-convert {\n",
              "      background-color: #E8F0FE;\n",
              "      border: none;\n",
              "      border-radius: 50%;\n",
              "      cursor: pointer;\n",
              "      display: none;\n",
              "      fill: #1967D2;\n",
              "      height: 32px;\n",
              "      padding: 0 0 0 0;\n",
              "      width: 32px;\n",
              "    }\n",
              "\n",
              "    .colab-df-convert:hover {\n",
              "      background-color: #E2EBFA;\n",
              "      box-shadow: 0px 1px 2px rgba(60, 64, 67, 0.3), 0px 1px 3px 1px rgba(60, 64, 67, 0.15);\n",
              "      fill: #174EA6;\n",
              "    }\n",
              "\n",
              "    [theme=dark] .colab-df-convert {\n",
              "      background-color: #3B4455;\n",
              "      fill: #D2E3FC;\n",
              "    }\n",
              "\n",
              "    [theme=dark] .colab-df-convert:hover {\n",
              "      background-color: #434B5C;\n",
              "      box-shadow: 0px 1px 3px 1px rgba(0, 0, 0, 0.15);\n",
              "      filter: drop-shadow(0px 1px 2px rgba(0, 0, 0, 0.3));\n",
              "      fill: #FFFFFF;\n",
              "    }\n",
              "  </style>\n",
              "\n",
              "      <script>\n",
              "        const buttonEl =\n",
              "          document.querySelector('#df-b8e45950-5b90-4032-a34e-d09c577f1ae7 button.colab-df-convert');\n",
              "        buttonEl.style.display =\n",
              "          google.colab.kernel.accessAllowed ? 'block' : 'none';\n",
              "\n",
              "        async function convertToInteractive(key) {\n",
              "          const element = document.querySelector('#df-b8e45950-5b90-4032-a34e-d09c577f1ae7');\n",
              "          const dataTable =\n",
              "            await google.colab.kernel.invokeFunction('convertToInteractive',\n",
              "                                                     [key], {});\n",
              "          if (!dataTable) return;\n",
              "\n",
              "          const docLinkHtml = 'Like what you see? Visit the ' +\n",
              "            '<a target=\"_blank\" href=https://colab.research.google.com/notebooks/data_table.ipynb>data table notebook</a>'\n",
              "            + ' to learn more about interactive tables.';\n",
              "          element.innerHTML = '';\n",
              "          dataTable['output_type'] = 'display_data';\n",
              "          await google.colab.output.renderOutput(dataTable, element);\n",
              "          const docLink = document.createElement('div');\n",
              "          docLink.innerHTML = docLinkHtml;\n",
              "          element.appendChild(docLink);\n",
              "        }\n",
              "      </script>\n",
              "    </div>\n",
              "  </div>\n",
              "  "
            ]
          },
          "metadata": {},
          "execution_count": 27
        }
      ]
    },
    {
      "cell_type": "code",
      "source": [
        "def crear_histogra(variable,j):\n",
        "  plt.figure(j)\n",
        "  plt.hist(df[variable],10,color = \"blue\" , ec=\"black\")\n",
        "  plt.title(\"histograma  \"+variable)\n",
        "\n",
        "variable=list(df.columns.values)\n",
        "\n",
        "j = 0\n",
        "k = 0\n",
        "\n",
        "for i in variable:\n",
        "  crear_histogra(i,j)\n",
        "  j+=1\n",
        "  k+=1"
      ],
      "metadata": {
        "colab": {
          "base_uri": "https://localhost:8080/",
          "height": 1000
        },
        "id": "yXV2CHk9IfSb",
        "outputId": "d69f3fa1-5f6b-43fa-da90-879978dec389"
      },
      "execution_count": null,
      "outputs": [
        {
          "output_type": "display_data",
          "data": {
            "text/plain": [
              "<Figure size 432x288 with 1 Axes>"
            ],
            "image/png": "[encoded data removed]"
          },
          "metadata": {
            "needs_background": "light"
          }
        },
        {
          "output_type": "display_data",
          "data": {
            "text/plain": [
              "<Figure size 432x288 with 1 Axes>"
            ],
            "image/png": "[encoded data removed]"
          },
          "metadata": {
            "needs_background": "light"
          }
        },
        {
          "output_type": "display_data",
          "data": {
            "text/plain": [
              "<Figure size 432x288 with 1 Axes>"
            ],
            "image/png": "[encoded data removed]"
          },
          "metadata": {
            "needs_background": "light"
          }
        },
        {
          "output_type": "display_data",
          "data": {
            "text/plain": [
              "<Figure size 432x288 with 1 Axes>"
            ],
            "image/png": "[encoded data removed]"
          },
          "metadata": {
            "needs_background": "light"
          }
        },
        {
          "output_type": "display_data",
          "data": {
            "text/plain": [
              "<Figure size 432x288 with 1 Axes>"
            ],
            "image/png": "[encoded data removed]"
          },
          "metadata": {
            "needs_background": "light"
          }
        },
        {
          "output_type": "display_data",
          "data": {
            "text/plain": [
              "<Figure size 432x288 with 1 Axes>"
            ],
            "image/png": "[encoded data removed]"
          },
          "metadata": {
            "needs_background": "light"
          }
        },
        {
          "output_type": "display_data",
          "data": {
            "text/plain": [
              "<Figure size 432x288 with 1 Axes>"
            ],
            "image/png": "[encoded data removed]"
          },
          "metadata": {
            "needs_background": "light"
          }
        },
        {
          "output_type": "display_data",
          "data": {
            "text/plain": [
              "<Figure size 432x288 with 1 Axes>"
            ],
            "image/png": "[encoded data removed]"
          },
          "metadata": {
            "needs_background": "light"
          }
        },
        {
          "output_type": "display_data",
          "data": {
            "text/plain": [
              "<Figure size 432x288 with 1 Axes>"
            ],
            "image/png": "[encoded data removed]"
          },
          "metadata": {
            "needs_background": "light"
          }
        },
        {
          "output_type": "display_data",
          "data": {
            "text/plain": [
              "<Figure size 432x288 with 1 Axes>"
            ],
            "image/png": "[encoded data removed]"
          },
          "metadata": {
            "needs_background": "light"
          }
        },
        {
          "output_type": "display_data",
          "data": {
            "text/plain": [
              "<Figure size 432x288 with 1 Axes>"
            ],
            "image/png": "[encoded data removed]"
          },
          "metadata": {
            "needs_background": "light"
          }
        },
        {
          "output_type": "display_data",
          "data": {
            "text/plain": [
              "<Figure size 432x288 with 1 Axes>"
            ],
            "image/png": "[encoded data removed]"
          },
          "metadata": {
            "needs_background": "light"
          }
        }
      ]
    },
    {
      "cell_type": "markdown",
      "source": [
        "#DIVIDIR EL MODELO PARA LAS PRUEBAS"
      ],
      "metadata": {
        "id": "0PiZ23x72Ia5"
      }
    },
    {
      "cell_type": "code",
      "source": [
        "df.corr()['event_label']"
      ],
      "metadata": {
        "colab": {
          "base_uri": "https://localhost:8080/"
        },
        "id": "aYE0wRdh2MkC",
        "outputId": "c64aecd8-e095-4169-f70b-2fc4c3c0e59b"
      },
      "execution_count": null,
      "outputs": [
        {
          "output_type": "execute_result",
          "data": {
            "text/plain": [
              "account_age_days       0.130943\n",
              "transaction_amt        0.123847\n",
              "transaction_adj_amt   -0.363767\n",
              "historic_velocity      0.004135\n",
              "card_bin               0.003013\n",
              "currency               0.021240\n",
              "cvv                    0.000095\n",
              "signature_image        0.009621\n",
              "transaction_type      -0.013958\n",
              "transaction_env        0.009643\n",
              "locale                -0.001054\n",
              "event_label            1.000000\n",
              "Name: event_label, dtype: float64"
            ]
          },
          "metadata": {},
          "execution_count": 29
        }
      ]
    },
    {
      "cell_type": "code",
      "source": [
        "#SACAMOS EL TARGET y LOS FEATURES\n",
        "x = df.drop(['event_label'], axis = 1)\n",
        "y = df['event_label']"
      ],
      "metadata": {
        "id": "hRBFFSHb2PuD"
      },
      "execution_count": null,
      "outputs": []
    },
    {
      "cell_type": "code",
      "source": [
        "x"
      ],
      "metadata": {
        "colab": {
          "base_uri": "https://localhost:8080/",
          "height": 488
        },
        "id": "4qwpMB3E2d_S",
        "outputId": "0efa6da6-91e7-4784-9057-66bfd8f4df46"
      },
      "execution_count": null,
      "outputs": [
        {
          "output_type": "execute_result",
          "data": {
            "text/plain": [
              "        account_age_days  transaction_amt  transaction_adj_amt  \\\n",
              "0               0.369599         0.432920             0.561224   \n",
              "1               0.297543         0.408490             0.479592   \n",
              "2               0.766177         0.578094             0.612245   \n",
              "3               0.297324         0.607729             0.275510   \n",
              "4               0.394494         0.594914             0.663265   \n",
              "...                  ...              ...                  ...   \n",
              "149995          0.437048         0.577693             0.571429   \n",
              "149996          0.639724         0.374449             0.612245   \n",
              "149997          0.524238         0.674009             0.479592   \n",
              "149998          0.667252         0.460753             0.591837   \n",
              "149999          0.568107         0.629355             0.683673   \n",
              "\n",
              "        historic_velocity  card_bin  currency       cvv  signature_image  \\\n",
              "0                0.253493  0.563824  0.333333  0.153846         0.230769   \n",
              "1                0.448990  0.299356  0.333333  0.923077         0.923077   \n",
              "2                0.498241  0.515236  0.333333  0.923077         0.653846   \n",
              "3                0.600261  0.807643  1.000000  0.269231         0.269231   \n",
              "4                0.256307  0.508612  0.333333  0.923077         0.230769   \n",
              "...                   ...       ...       ...       ...              ...   \n",
              "149995           0.451704  0.389243  0.333333  0.884615         0.153846   \n",
              "149996           0.434114  0.965389  0.333333  0.346154         0.923077   \n",
              "149997           0.511107  0.666228  0.333333  0.153846         0.307692   \n",
              "149998           0.482058  0.322262  0.333333  0.923077         0.807692   \n",
              "149999           0.496231  0.474277  0.333333  0.269231         0.807692   \n",
              "\n",
              "        transaction_type  transaction_env    locale  \n",
              "0               0.807692         0.923077  0.692833  \n",
              "1               0.307692         0.884615  0.027304  \n",
              "2               0.923077         0.923077  0.262799  \n",
              "3               0.115385         0.538462  0.191126  \n",
              "4               0.230769         0.269231  0.894198  \n",
              "...                  ...              ...       ...  \n",
              "149995          0.730769         0.884615  0.976109  \n",
              "149996          0.884615         1.000000  0.897611  \n",
              "149997          0.346154         0.153846  0.959044  \n",
              "149998          1.000000         0.923077  0.556314  \n",
              "149999          1.000000         1.000000  0.556314  \n",
              "\n",
              "[150000 rows x 11 columns]"
            ],
            "text/html": [
              "\n",
              "  <div id=\"df-5971ebbc-5c69-4e5b-8d2c-7ba33140e9d0\">\n",
              "    <div class=\"colab-df-container\">\n",
              "      <div>\n",
              "<style scoped>\n",
              "    .dataframe tbody tr th:only-of-type {\n",
              "        vertical-align: middle;\n",
              "    }\n",
              "\n",
              "    .dataframe tbody tr th {\n",
              "        vertical-align: top;\n",
              "    }\n",
              "\n",
              "    .dataframe thead th {\n",
              "        text-align: right;\n",
              "    }\n",
              "</style>\n",
              "<table border=\"1\" class=\"dataframe\">\n",
              "  <thead>\n",
              "    <tr style=\"text-align: right;\">\n",
              "      <th></th>\n",
              "      <th>account_age_days</th>\n",
              "      <th>transaction_amt</th>\n",
              "      <th>transaction_adj_amt</th>\n",
              "      <th>historic_velocity</th>\n",
              "      <th>card_bin</th>\n",
              "      <th>currency</th>\n",
              "      <th>cvv</th>\n",
              "      <th>signature_image</th>\n",
              "      <th>transaction_type</th>\n",
              "      <th>transaction_env</th>\n",
              "      <th>locale</th>\n",
              "    </tr>\n",
              "  </thead>\n",
              "  <tbody>\n",
              "    <tr>\n",
              "      <th>0</th>\n",
              "      <td>0.369599</td>\n",
              "      <td>0.432920</td>\n",
              "      <td>0.561224</td>\n",
              "      <td>0.253493</td>\n",
              "      <td>0.563824</td>\n",
              "      <td>0.333333</td>\n",
              "      <td>0.153846</td>\n",
              "      <td>0.230769</td>\n",
              "      <td>0.807692</td>\n",
              "      <td>0.923077</td>\n",
              "      <td>0.692833</td>\n",
              "    </tr>\n",
              "    <tr>\n",
              "      <th>1</th>\n",
              "      <td>0.297543</td>\n",
              "      <td>0.408490</td>\n",
              "      <td>0.479592</td>\n",
              "      <td>0.448990</td>\n",
              "      <td>0.299356</td>\n",
              "      <td>0.333333</td>\n",
              "      <td>0.923077</td>\n",
              "      <td>0.923077</td>\n",
              "      <td>0.307692</td>\n",
              "      <td>0.884615</td>\n",
              "      <td>0.027304</td>\n",
              "    </tr>\n",
              "    <tr>\n",
              "      <th>2</th>\n",
              "      <td>0.766177</td>\n",
              "      <td>0.578094</td>\n",
              "      <td>0.612245</td>\n",
              "      <td>0.498241</td>\n",
              "      <td>0.515236</td>\n",
              "      <td>0.333333</td>\n",
              "      <td>0.923077</td>\n",
              "      <td>0.653846</td>\n",
              "      <td>0.923077</td>\n",
              "      <td>0.923077</td>\n",
              "      <td>0.262799</td>\n",
              "    </tr>\n",
              "    <tr>\n",
              "      <th>3</th>\n",
              "      <td>0.297324</td>\n",
              "      <td>0.607729</td>\n",
              "      <td>0.275510</td>\n",
              "      <td>0.600261</td>\n",
              "      <td>0.807643</td>\n",
              "      <td>1.000000</td>\n",
              "      <td>0.269231</td>\n",
              "      <td>0.269231</td>\n",
              "      <td>0.115385</td>\n",
              "      <td>0.538462</td>\n",
              "      <td>0.191126</td>\n",
              "    </tr>\n",
              "    <tr>\n",
              "      <th>4</th>\n",
              "      <td>0.394494</td>\n",
              "      <td>0.594914</td>\n",
              "      <td>0.663265</td>\n",
              "      <td>0.256307</td>\n",
              "      <td>0.508612</td>\n",
              "      <td>0.333333</td>\n",
              "      <td>0.923077</td>\n",
              "      <td>0.230769</td>\n",
              "      <td>0.230769</td>\n",
              "      <td>0.269231</td>\n",
              "      <td>0.894198</td>\n",
              "    </tr>\n",
              "    <tr>\n",
              "      <th>...</th>\n",
              "      <td>...</td>\n",
              "      <td>...</td>\n",
              "      <td>...</td>\n",
              "      <td>...</td>\n",
              "      <td>...</td>\n",
              "      <td>...</td>\n",
              "      <td>...</td>\n",
              "      <td>...</td>\n",
              "      <td>...</td>\n",
              "      <td>...</td>\n",
              "      <td>...</td>\n",
              "    </tr>\n",
              "    <tr>\n",
              "      <th>149995</th>\n",
              "      <td>0.437048</td>\n",
              "      <td>0.577693</td>\n",
              "      <td>0.571429</td>\n",
              "      <td>0.451704</td>\n",
              "      <td>0.389243</td>\n",
              "      <td>0.333333</td>\n",
              "      <td>0.884615</td>\n",
              "      <td>0.153846</td>\n",
              "      <td>0.730769</td>\n",
              "      <td>0.884615</td>\n",
              "      <td>0.976109</td>\n",
              "    </tr>\n",
              "    <tr>\n",
              "      <th>149996</th>\n",
              "      <td>0.639724</td>\n",
              "      <td>0.374449</td>\n",
              "      <td>0.612245</td>\n",
              "      <td>0.434114</td>\n",
              "      <td>0.965389</td>\n",
              "      <td>0.333333</td>\n",
              "      <td>0.346154</td>\n",
              "      <td>0.923077</td>\n",
              "      <td>0.884615</td>\n",
              "      <td>1.000000</td>\n",
              "      <td>0.897611</td>\n",
              "    </tr>\n",
              "    <tr>\n",
              "      <th>149997</th>\n",
              "      <td>0.524238</td>\n",
              "      <td>0.674009</td>\n",
              "      <td>0.479592</td>\n",
              "      <td>0.511107</td>\n",
              "      <td>0.666228</td>\n",
              "      <td>0.333333</td>\n",
              "      <td>0.153846</td>\n",
              "      <td>0.307692</td>\n",
              "      <td>0.346154</td>\n",
              "      <td>0.153846</td>\n",
              "      <td>0.959044</td>\n",
              "    </tr>\n",
              "    <tr>\n",
              "      <th>149998</th>\n",
              "      <td>0.667252</td>\n",
              "      <td>0.460753</td>\n",
              "      <td>0.591837</td>\n",
              "      <td>0.482058</td>\n",
              "      <td>0.322262</td>\n",
              "      <td>0.333333</td>\n",
              "      <td>0.923077</td>\n",
              "      <td>0.807692</td>\n",
              "      <td>1.000000</td>\n",
              "      <td>0.923077</td>\n",
              "      <td>0.556314</td>\n",
              "    </tr>\n",
              "    <tr>\n",
              "      <th>149999</th>\n",
              "      <td>0.568107</td>\n",
              "      <td>0.629355</td>\n",
              "      <td>0.683673</td>\n",
              "      <td>0.496231</td>\n",
              "      <td>0.474277</td>\n",
              "      <td>0.333333</td>\n",
              "      <td>0.269231</td>\n",
              "      <td>0.807692</td>\n",
              "      <td>1.000000</td>\n",
              "      <td>1.000000</td>\n",
              "      <td>0.556314</td>\n",
              "    </tr>\n",
              "  </tbody>\n",
              "</table>\n",
              "<p>150000 rows × 11 columns</p>\n",
              "</div>\n",
              "      <button class=\"colab-df-convert\" onclick=\"convertToInteractive('df-5971ebbc-5c69-4e5b-8d2c-7ba33140e9d0')\"\n",
              "              title=\"Convert this dataframe to an interactive table.\"\n",
              "              style=\"display:none;\">\n",
              "        \n",
              "  <svg xmlns=\"http://www.w3.org/2000/svg\" height=\"24px\"viewBox=\"0 0 24 24\"\n",
              "       width=\"24px\">\n",
              "    <path d=\"M0 0h24v24H0V0z\" fill=\"none\"/>\n",
              "    <path d=\"M18.56 5.44l.94 2.06.94-2.06 2.06-.94-2.06-.94-.94-2.06-.94 2.06-2.06.94zm-11 1L8.5 8.5l.94-2.06 2.06-.94-2.06-.94L8.5 2.5l-.94 2.06-2.06.94zm10 10l.94 2.06.94-2.06 2.06-.94-2.06-.94-.94-2.06-.94 2.06-2.06.94z\"/><path d=\"M17.41 7.96l-1.37-1.37c-.4-.4-.92-.59-1.43-.59-.52 0-1.04.2-1.43.59L10.3 9.45l-7.72 7.72c-.78.78-.78 2.05 0 2.83L4 21.41c.39.39.9.59 1.41.59.51 0 1.02-.2 1.41-.59l7.78-7.78 2.81-2.81c.8-.78.8-2.07 0-2.86zM5.41 20L4 18.59l7.72-7.72 1.47 1.35L5.41 20z\"/>\n",
              "  </svg>\n",
              "      </button>\n",
              "      \n",
              "  <style>\n",
              "    .colab-df-container {\n",
              "      display:flex;\n",
              "      flex-wrap:wrap;\n",
              "      gap: 12px;\n",
              "    }\n",
              "\n",
              "    .colab-df-convert {\n",
              "      background-color: #E8F0FE;\n",
              "      border: none;\n",
              "      border-radius: 50%;\n",
              "      cursor: pointer;\n",
              "      display: none;\n",
              "      fill: #1967D2;\n",
              "      height: 32px;\n",
              "      padding: 0 0 0 0;\n",
              "      width: 32px;\n",
              "    }\n",
              "\n",
              "    .colab-df-convert:hover {\n",
              "      background-color: #E2EBFA;\n",
              "      box-shadow: 0px 1px 2px rgba(60, 64, 67, 0.3), 0px 1px 3px 1px rgba(60, 64, 67, 0.15);\n",
              "      fill: #174EA6;\n",
              "    }\n",
              "\n",
              "    [theme=dark] .colab-df-convert {\n",
              "      background-color: #3B4455;\n",
              "      fill: #D2E3FC;\n",
              "    }\n",
              "\n",
              "    [theme=dark] .colab-df-convert:hover {\n",
              "      background-color: #434B5C;\n",
              "      box-shadow: 0px 1px 3px 1px rgba(0, 0, 0, 0.15);\n",
              "      filter: drop-shadow(0px 1px 2px rgba(0, 0, 0, 0.3));\n",
              "      fill: #FFFFFF;\n",
              "    }\n",
              "  </style>\n",
              "\n",
              "      <script>\n",
              "        const buttonEl =\n",
              "          document.querySelector('#df-5971ebbc-5c69-4e5b-8d2c-7ba33140e9d0 button.colab-df-convert');\n",
              "        buttonEl.style.display =\n",
              "          google.colab.kernel.accessAllowed ? 'block' : 'none';\n",
              "\n",
              "        async function convertToInteractive(key) {\n",
              "          const element = document.querySelector('#df-5971ebbc-5c69-4e5b-8d2c-7ba33140e9d0');\n",
              "          const dataTable =\n",
              "            await google.colab.kernel.invokeFunction('convertToInteractive',\n",
              "                                                     [key], {});\n",
              "          if (!dataTable) return;\n",
              "\n",
              "          const docLinkHtml = 'Like what you see? Visit the ' +\n",
              "            '<a target=\"_blank\" href=https://colab.research.google.com/notebooks/data_table.ipynb>data table notebook</a>'\n",
              "            + ' to learn more about interactive tables.';\n",
              "          element.innerHTML = '';\n",
              "          dataTable['output_type'] = 'display_data';\n",
              "          await google.colab.output.renderOutput(dataTable, element);\n",
              "          const docLink = document.createElement('div');\n",
              "          docLink.innerHTML = docLinkHtml;\n",
              "          element.appendChild(docLink);\n",
              "        }\n",
              "      </script>\n",
              "    </div>\n",
              "  </div>\n",
              "  "
            ]
          },
          "metadata": {},
          "execution_count": 31
        }
      ]
    },
    {
      "cell_type": "code",
      "source": [
        "y"
      ],
      "metadata": {
        "colab": {
          "base_uri": "https://localhost:8080/"
        },
        "id": "_WIPBbXC2dy4",
        "outputId": "f17839bd-5ecc-41cd-c463-86a8dd6a1907"
      },
      "execution_count": null,
      "outputs": [
        {
          "output_type": "execute_result",
          "data": {
            "text/plain": [
              "0         0.0\n",
              "1         0.0\n",
              "2         0.0\n",
              "3         0.0\n",
              "4         0.0\n",
              "         ... \n",
              "149995    0.0\n",
              "149996    0.0\n",
              "149997    0.0\n",
              "149998    0.0\n",
              "149999    0.0\n",
              "Name: event_label, Length: 150000, dtype: float64"
            ]
          },
          "metadata": {},
          "execution_count": 32
        }
      ]
    },
    {
      "cell_type": "code",
      "source": [
        "x_train, x_test, y_train, y_test = train_test_split(x, y, test_size=0.3, random_state= 1)"
      ],
      "metadata": {
        "id": "oAL__z4q2kEJ"
      },
      "execution_count": null,
      "outputs": []
    },
    {
      "cell_type": "markdown",
      "source": [
        "##APLICAR REGRESION LOGISTICA"
      ],
      "metadata": {
        "id": "urj0no8I2m5p"
      }
    },
    {
      "cell_type": "code",
      "source": [
        "logistic = LogisticRegression(max_iter=3000)"
      ],
      "metadata": {
        "id": "bOY53AgD2uA5"
      },
      "execution_count": null,
      "outputs": []
    },
    {
      "cell_type": "code",
      "source": [
        "logistic.fit(x_train, y_train)"
      ],
      "metadata": {
        "colab": {
          "base_uri": "https://localhost:8080/"
        },
        "id": "3O0BcIkn2xdJ",
        "outputId": "26816c69-996e-4fdd-849c-391448864e14"
      },
      "execution_count": null,
      "outputs": [
        {
          "output_type": "execute_result",
          "data": {
            "text/plain": [
              "LogisticRegression(max_iter=3000)"
            ]
          },
          "metadata": {},
          "execution_count": 35
        }
      ]
    },
    {
      "cell_type": "code",
      "source": [
        "y_pred = logistic.predict(x_test)"
      ],
      "metadata": {
        "id": "aN9dSEq32z9B"
      },
      "execution_count": null,
      "outputs": []
    },
    {
      "cell_type": "code",
      "source": [
        "accuracy = metrics.accuracy_score(y_test,y_pred)\n",
        "print(\"Accuracy : %s\" % \"{0:.3%}\".format(accuracy))"
      ],
      "metadata": {
        "colab": {
          "base_uri": "https://localhost:8080/"
        },
        "id": "5vPCqtDX21nJ",
        "outputId": "74efd3ca-819c-4adf-a8e0-1db3c28a1132"
      },
      "execution_count": null,
      "outputs": [
        {
          "output_type": "stream",
          "name": "stdout",
          "text": [
            "Accuracy : 96.160%\n"
          ]
        }
      ]
    },
    {
      "cell_type": "code",
      "source": [
        "precision = metrics.precision_score(y_test, y_pred)\n",
        "print(\"Precision : %s\" % \"{0:.3%}\".format(precision))"
      ],
      "metadata": {
        "colab": {
          "base_uri": "https://localhost:8080/"
        },
        "id": "2m7tASkd27zH",
        "outputId": "40454cb4-82e9-43dc-9d34-36fc17cbc663"
      },
      "execution_count": null,
      "outputs": [
        {
          "output_type": "stream",
          "name": "stdout",
          "text": [
            "Precision : 80.623%\n"
          ]
        }
      ]
    },
    {
      "cell_type": "markdown",
      "source": [
        "##APLICAMOS LA MATRIZ DE CONFUSION"
      ],
      "metadata": {
        "id": "ONu7CIxU3QRK"
      }
    },
    {
      "cell_type": "code",
      "source": [
        "cm = metrics.confusion_matrix(y_test, y_pred, labels=[0, 1])"
      ],
      "metadata": {
        "id": "LLIyNLPm3Trl"
      },
      "execution_count": null,
      "outputs": []
    },
    {
      "cell_type": "code",
      "source": [
        "print('Confusion matrix\\n\\n', cm)"
      ],
      "metadata": {
        "colab": {
          "base_uri": "https://localhost:8080/"
        },
        "id": "69Li2R8l3VSe",
        "outputId": "ab8a1af6-d1dd-4983-bb85-7736d5d34103"
      },
      "execution_count": null,
      "outputs": [
        {
          "output_type": "stream",
          "name": "stdout",
          "text": [
            "Confusion matrix\n",
            "\n",
            " [[42315   230]\n",
            " [ 1498   957]]\n"
          ]
        }
      ]
    },
    {
      "cell_type": "markdown",
      "source": [
        "##TECNICA DE PESOS POR LOS DATOS DESBALANCEADOS"
      ],
      "metadata": {
        "id": "dcPCnW5v8OWo"
      }
    },
    {
      "cell_type": "code",
      "source": [
        "modelo = LogisticRegression(class_weight='balanced',max_iter=3000).fit(x_train, y_train)"
      ],
      "metadata": {
        "id": "azauFoO8-gQ5"
      },
      "execution_count": null,
      "outputs": []
    },
    {
      "cell_type": "code",
      "source": [
        "y_pred = modelo.predict(x_test)"
      ],
      "metadata": {
        "id": "8NP94cdS81vw"
      },
      "execution_count": null,
      "outputs": []
    },
    {
      "cell_type": "code",
      "source": [
        "accuracy = metrics.accuracy_score(y_test, y_pred)\n",
        "print(\"Accuracy : %s\" % \"{0:.3%}\".format(accuracy))"
      ],
      "metadata": {
        "colab": {
          "base_uri": "https://localhost:8080/"
        },
        "id": "y8QCefiA85sy",
        "outputId": "9b1c8802-64e4-45af-e466-755f7afa93d0"
      },
      "execution_count": null,
      "outputs": [
        {
          "output_type": "stream",
          "name": "stdout",
          "text": [
            "Accuracy : 85.338%\n"
          ]
        }
      ]
    },
    {
      "cell_type": "code",
      "source": [
        "precision = metrics.precision_score(y_test, y_pred)\n",
        "print(\"Precision : %s\" % \"{0:.3%}\".format(precision))"
      ],
      "metadata": {
        "colab": {
          "base_uri": "https://localhost:8080/"
        },
        "id": "2bGNI2bH87RY",
        "outputId": "259abfc4-2a35-400e-c059-68c93cba06a6"
      },
      "execution_count": null,
      "outputs": [
        {
          "output_type": "stream",
          "name": "stdout",
          "text": [
            "Precision : 25.123%\n"
          ]
        }
      ]
    },
    {
      "cell_type": "code",
      "source": [
        "cm = metrics.confusion_matrix(y_test, y_pred, labels=[0, 1])"
      ],
      "metadata": {
        "id": "nVmEx5km88w4"
      },
      "execution_count": null,
      "outputs": []
    },
    {
      "cell_type": "code",
      "source": [
        "print('Confusion matrix\\n\\n', cm)"
      ],
      "metadata": {
        "colab": {
          "base_uri": "https://localhost:8080/"
        },
        "id": "SbaVephH89sR",
        "outputId": "6ed9e211-d54a-46e0-eb99-8ecfcc0e6355"
      },
      "execution_count": null,
      "outputs": [
        {
          "output_type": "stream",
          "name": "stdout",
          "text": [
            "Confusion matrix\n",
            "\n",
            " [[36310  6235]\n",
            " [  363  2092]]\n"
          ]
        }
      ]
    },
    {
      "cell_type": "code",
      "source": [
        "TP = cm[0,0]\n",
        "TN = cm[1,1]\n",
        "FP = cm[0,1]\n",
        "FN = cm[1,0]\n",
        "print('\\nVerdaderos positivos(TP) = ', cm[0,0])\n",
        "\n",
        "print('\\nVerdaderos negativoss(TN) = ', cm[1,1])\n",
        "\n",
        "print('\\nFalsos positivos(FP) = ', cm[0,1])\n",
        "\n",
        "print('\\nFalsos negativos(FN) = ', cm[1,0])"
      ],
      "metadata": {
        "colab": {
          "base_uri": "https://localhost:8080/"
        },
        "id": "CUp7AbXXEa7-",
        "outputId": "59b4625c-1938-42ac-e21b-a7d7640dd4fb"
      },
      "execution_count": null,
      "outputs": [
        {
          "output_type": "stream",
          "name": "stdout",
          "text": [
            "\n",
            "Verdaderos positivos(TP) =  36310\n",
            "\n",
            "Verdaderos negativoss(TN) =  2092\n",
            "\n",
            "Falsos positivos(FP) =  6235\n",
            "\n",
            "Falsos negativos(FN) =  363\n"
          ]
        }
      ]
    },
    {
      "cell_type": "markdown",
      "source": [
        "##METRICAS DE CLASIFICACION\n",
        "* Alta precisión y alto recall: el modelo de Machine Learning escogido maneja perfectamente esa clase.\n",
        "* Alta precisión y bajo recall: el modelo de Machine Learning escogido no detecta la clase muy bien, pero cuando lo hace es altamente confiable.\n",
        "* Baja precisión y alto recall: El modelo de Machine Learning escogido detecta bien la clase,  pero también incluye muestras de la otra clase.\n",
        "* Baja precisión y bajo recall: El modelo de Machine Learning escogido no logra clasificar la clase correctamente."
      ],
      "metadata": {
        "id": "t1hLEr9SB8CJ"
      }
    },
    {
      "cell_type": "code",
      "source": [
        "print(classification_report(y_test, y_pred))"
      ],
      "metadata": {
        "colab": {
          "base_uri": "https://localhost:8080/"
        },
        "id": "nj9asA9iB-OB",
        "outputId": "8f82a979-3bf0-41ea-87e4-6d63d70e8015"
      },
      "execution_count": null,
      "outputs": [
        {
          "output_type": "stream",
          "name": "stdout",
          "text": [
            "              precision    recall  f1-score   support\n",
            "\n",
            "         0.0       0.99      0.85      0.92     42545\n",
            "         1.0       0.25      0.85      0.39      2455\n",
            "\n",
            "    accuracy                           0.85     45000\n",
            "   macro avg       0.62      0.85      0.65     45000\n",
            "weighted avg       0.95      0.85      0.89     45000\n",
            "\n"
          ]
        }
      ]
    },
    {
      "cell_type": "markdown",
      "source": [
        "##Exactitud\n",
        "Porcentaje de casos positivos detectados."
      ],
      "metadata": {
        "id": "R2p5R7QACPBw"
      }
    },
    {
      "cell_type": "code",
      "source": [
        "classification_accuracy = (TP + TN) / float(FP + TP + TN + FN)\n",
        "print('Exactitud de clasificacion : {0:0.4f}%'.format(classification_accuracy))\n",
        "\n",
        "classification_error = (FP + FN) / float(TP + TN + FP + FN)\n",
        "\n",
        "print('Error de clasificacion : {0:0.4f}%'.format(classification_error))\n"
      ],
      "metadata": {
        "colab": {
          "base_uri": "https://localhost:8080/"
        },
        "id": "pIun6LrECRKP",
        "outputId": "e45ceb45-51ea-4bdd-dbd1-4deeb1ffb86a"
      },
      "execution_count": null,
      "outputs": [
        {
          "output_type": "stream",
          "name": "stdout",
          "text": [
            "Exactitud de clasificacion : 0.8534%\n",
            "Error de clasificacion : 0.1466%\n"
          ]
        }
      ]
    },
    {
      "cell_type": "markdown",
      "source": [
        "## **Presicion**"
      ],
      "metadata": {
        "id": "cmSO315380-Z"
      }
    },
    {
      "cell_type": "code",
      "source": [
        "precision = TP / float(TP + FP)\n",
        "\n",
        "print('Precision : {0:0.4f}%'.format(precision))"
      ],
      "metadata": {
        "colab": {
          "base_uri": "https://localhost:8080/"
        },
        "id": "IYmbwQ_886Cu",
        "outputId": "cf09ad89-fa06-4514-94c5-d82e07185f23"
      },
      "execution_count": null,
      "outputs": [
        {
          "output_type": "stream",
          "name": "stdout",
          "text": [
            "Precision : 0.8534%\n"
          ]
        }
      ]
    },
    {
      "cell_type": "markdown",
      "source": [
        "##Especificidad\n",
        "Se trata de los casos negativos que el algoritmo ha clasificado correctamente."
      ],
      "metadata": {
        "id": "af-tZ3KZCRcY"
      }
    },
    {
      "cell_type": "code",
      "source": [
        "specificidad = TN / float(TN + FP)\n",
        "print('Especifidad : {0:0.4f}%'.format(specificidad*100))"
      ],
      "metadata": {
        "colab": {
          "base_uri": "https://localhost:8080/"
        },
        "id": "f1CEJu4lGDoX",
        "outputId": "d97b89ae-2283-4f2c-8a01-4e18ec6e5285"
      },
      "execution_count": null,
      "outputs": [
        {
          "output_type": "stream",
          "name": "stdout",
          "text": [
            "Especifidad : 25.1231%\n"
          ]
        }
      ]
    },
    {
      "cell_type": "markdown",
      "source": [
        "##Sensibilidad (Recall)\n",
        "Es la proporción de casos positivos que fueron correctamente identificadas por el algoritmo."
      ],
      "metadata": {
        "id": "-PQ9b2tqFRaY"
      }
    },
    {
      "cell_type": "code",
      "source": [
        "recall = TP / float(TP + FN)\n",
        "print('Sensibilidad : {0:0.4f}%'.format(recall*100))"
      ],
      "metadata": {
        "colab": {
          "base_uri": "https://localhost:8080/"
        },
        "id": "qvL4YkR1G08W",
        "outputId": "21e7032a-ebf3-4b84-9768-ae2130bec658"
      },
      "execution_count": null,
      "outputs": [
        {
          "output_type": "stream",
          "name": "stdout",
          "text": [
            "Sensibilidad : 99.0102%\n"
          ]
        }
      ]
    },
    {
      "cell_type": "markdown",
      "source": [
        "##Puntaje F1Score\n",
        "Esta es otra métrica muy empleada porque nos resume la precisión y sensibilidad en una sola métrica."
      ],
      "metadata": {
        "id": "absu-e1bH0Jr"
      }
    },
    {
      "cell_type": "code",
      "source": [
        "f1_score = 2*(precision + recall) / float(precision + recall)\n",
        "print('Puntaje F1 : ')\n",
        "f1_score\n",
        "\n"
      ],
      "metadata": {
        "colab": {
          "base_uri": "https://localhost:8080/"
        },
        "id": "UDZyXxQuHy-e",
        "outputId": "22a02127-3a84-44a2-f2c7-76be34025783"
      },
      "execution_count": null,
      "outputs": [
        {
          "output_type": "stream",
          "name": "stdout",
          "text": [
            "Puntaje F1 : \n"
          ]
        },
        {
          "output_type": "execute_result",
          "data": {
            "text/plain": [
              "2.0"
            ]
          },
          "metadata": {},
          "execution_count": 53
        }
      ]
    }
  ]
}